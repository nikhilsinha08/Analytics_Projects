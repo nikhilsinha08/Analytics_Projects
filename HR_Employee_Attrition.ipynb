{
 "cells": [
  {
   "cell_type": "markdown",
   "metadata": {},
   "source": [
    "# HR Employee Attrition Analysis"
   ]
  },
  {
   "cell_type": "code",
   "execution_count": 146,
   "metadata": {},
   "outputs": [],
   "source": [
    "import pandas as pd\n",
    "import numpy as np\n",
    "import  matplotlib.pyplot as plt\n",
    "import seaborn as sns"
   ]
  },
  {
   "cell_type": "code",
   "execution_count": 196,
   "metadata": {},
   "outputs": [],
   "source": [
    "import warnings\n",
    "warnings.filterwarnings('ignore')"
   ]
  },
  {
   "cell_type": "code",
   "execution_count": 148,
   "metadata": {},
   "outputs": [],
   "source": [
    "hr = pd.read_csv('HR_Employee_Attrition.csv')"
   ]
  },
  {
   "cell_type": "markdown",
   "metadata": {},
   "source": [
    "### Exploratory Data Analysis"
   ]
  },
  {
   "cell_type": "code",
   "execution_count": 149,
   "metadata": {},
   "outputs": [
    {
     "data": {
      "text/html": [
       "<div>\n",
       "<style scoped>\n",
       "    .dataframe tbody tr th:only-of-type {\n",
       "        vertical-align: middle;\n",
       "    }\n",
       "\n",
       "    .dataframe tbody tr th {\n",
       "        vertical-align: top;\n",
       "    }\n",
       "\n",
       "    .dataframe thead th {\n",
       "        text-align: right;\n",
       "    }\n",
       "</style>\n",
       "<table border=\"1\" class=\"dataframe\">\n",
       "  <thead>\n",
       "    <tr style=\"text-align: right;\">\n",
       "      <th></th>\n",
       "      <th>Age</th>\n",
       "      <th>Attrition</th>\n",
       "      <th>BusinessTravel</th>\n",
       "      <th>DailyRate</th>\n",
       "      <th>Department</th>\n",
       "      <th>DistanceFromHome</th>\n",
       "      <th>Education</th>\n",
       "      <th>EducationField</th>\n",
       "      <th>EmployeeCount</th>\n",
       "      <th>EmployeeNumber</th>\n",
       "      <th>...</th>\n",
       "      <th>RelationshipSatisfaction</th>\n",
       "      <th>StandardHours</th>\n",
       "      <th>StockOptionLevel</th>\n",
       "      <th>TotalWorkingYears</th>\n",
       "      <th>TrainingTimesLastYear</th>\n",
       "      <th>WorkLifeBalance</th>\n",
       "      <th>YearsAtCompany</th>\n",
       "      <th>YearsInCurrentRole</th>\n",
       "      <th>YearsSinceLastPromotion</th>\n",
       "      <th>YearsWithCurrManager</th>\n",
       "    </tr>\n",
       "  </thead>\n",
       "  <tbody>\n",
       "    <tr>\n",
       "      <th>0</th>\n",
       "      <td>41</td>\n",
       "      <td>Yes</td>\n",
       "      <td>Travel_Rarely</td>\n",
       "      <td>1102</td>\n",
       "      <td>Sales</td>\n",
       "      <td>1</td>\n",
       "      <td>2</td>\n",
       "      <td>Life Sciences</td>\n",
       "      <td>1</td>\n",
       "      <td>1</td>\n",
       "      <td>...</td>\n",
       "      <td>1</td>\n",
       "      <td>80</td>\n",
       "      <td>0</td>\n",
       "      <td>8</td>\n",
       "      <td>0</td>\n",
       "      <td>1</td>\n",
       "      <td>6</td>\n",
       "      <td>4</td>\n",
       "      <td>0</td>\n",
       "      <td>5</td>\n",
       "    </tr>\n",
       "    <tr>\n",
       "      <th>1</th>\n",
       "      <td>49</td>\n",
       "      <td>No</td>\n",
       "      <td>Travel_Frequently</td>\n",
       "      <td>279</td>\n",
       "      <td>Research &amp; Development</td>\n",
       "      <td>8</td>\n",
       "      <td>1</td>\n",
       "      <td>Life Sciences</td>\n",
       "      <td>1</td>\n",
       "      <td>2</td>\n",
       "      <td>...</td>\n",
       "      <td>4</td>\n",
       "      <td>80</td>\n",
       "      <td>1</td>\n",
       "      <td>10</td>\n",
       "      <td>3</td>\n",
       "      <td>3</td>\n",
       "      <td>10</td>\n",
       "      <td>7</td>\n",
       "      <td>1</td>\n",
       "      <td>7</td>\n",
       "    </tr>\n",
       "    <tr>\n",
       "      <th>2</th>\n",
       "      <td>37</td>\n",
       "      <td>Yes</td>\n",
       "      <td>Travel_Rarely</td>\n",
       "      <td>1373</td>\n",
       "      <td>Research &amp; Development</td>\n",
       "      <td>2</td>\n",
       "      <td>2</td>\n",
       "      <td>Other</td>\n",
       "      <td>1</td>\n",
       "      <td>4</td>\n",
       "      <td>...</td>\n",
       "      <td>2</td>\n",
       "      <td>80</td>\n",
       "      <td>0</td>\n",
       "      <td>7</td>\n",
       "      <td>3</td>\n",
       "      <td>3</td>\n",
       "      <td>0</td>\n",
       "      <td>0</td>\n",
       "      <td>0</td>\n",
       "      <td>0</td>\n",
       "    </tr>\n",
       "    <tr>\n",
       "      <th>3</th>\n",
       "      <td>33</td>\n",
       "      <td>No</td>\n",
       "      <td>Travel_Frequently</td>\n",
       "      <td>1392</td>\n",
       "      <td>Research &amp; Development</td>\n",
       "      <td>3</td>\n",
       "      <td>4</td>\n",
       "      <td>Life Sciences</td>\n",
       "      <td>1</td>\n",
       "      <td>5</td>\n",
       "      <td>...</td>\n",
       "      <td>3</td>\n",
       "      <td>80</td>\n",
       "      <td>0</td>\n",
       "      <td>8</td>\n",
       "      <td>3</td>\n",
       "      <td>3</td>\n",
       "      <td>8</td>\n",
       "      <td>7</td>\n",
       "      <td>3</td>\n",
       "      <td>0</td>\n",
       "    </tr>\n",
       "    <tr>\n",
       "      <th>4</th>\n",
       "      <td>27</td>\n",
       "      <td>No</td>\n",
       "      <td>Travel_Rarely</td>\n",
       "      <td>591</td>\n",
       "      <td>Research &amp; Development</td>\n",
       "      <td>2</td>\n",
       "      <td>1</td>\n",
       "      <td>Medical</td>\n",
       "      <td>1</td>\n",
       "      <td>7</td>\n",
       "      <td>...</td>\n",
       "      <td>4</td>\n",
       "      <td>80</td>\n",
       "      <td>1</td>\n",
       "      <td>6</td>\n",
       "      <td>3</td>\n",
       "      <td>3</td>\n",
       "      <td>2</td>\n",
       "      <td>2</td>\n",
       "      <td>2</td>\n",
       "      <td>2</td>\n",
       "    </tr>\n",
       "  </tbody>\n",
       "</table>\n",
       "<p>5 rows × 35 columns</p>\n",
       "</div>"
      ],
      "text/plain": [
       "   Age Attrition     BusinessTravel  DailyRate              Department  \\\n",
       "0   41       Yes      Travel_Rarely       1102                   Sales   \n",
       "1   49        No  Travel_Frequently        279  Research & Development   \n",
       "2   37       Yes      Travel_Rarely       1373  Research & Development   \n",
       "3   33        No  Travel_Frequently       1392  Research & Development   \n",
       "4   27        No      Travel_Rarely        591  Research & Development   \n",
       "\n",
       "   DistanceFromHome  Education EducationField  EmployeeCount  EmployeeNumber  \\\n",
       "0                 1          2  Life Sciences              1               1   \n",
       "1                 8          1  Life Sciences              1               2   \n",
       "2                 2          2          Other              1               4   \n",
       "3                 3          4  Life Sciences              1               5   \n",
       "4                 2          1        Medical              1               7   \n",
       "\n",
       "   ...  RelationshipSatisfaction StandardHours  StockOptionLevel  \\\n",
       "0  ...                         1            80                 0   \n",
       "1  ...                         4            80                 1   \n",
       "2  ...                         2            80                 0   \n",
       "3  ...                         3            80                 0   \n",
       "4  ...                         4            80                 1   \n",
       "\n",
       "   TotalWorkingYears  TrainingTimesLastYear WorkLifeBalance  YearsAtCompany  \\\n",
       "0                  8                      0               1               6   \n",
       "1                 10                      3               3              10   \n",
       "2                  7                      3               3               0   \n",
       "3                  8                      3               3               8   \n",
       "4                  6                      3               3               2   \n",
       "\n",
       "  YearsInCurrentRole  YearsSinceLastPromotion  YearsWithCurrManager  \n",
       "0                  4                        0                     5  \n",
       "1                  7                        1                     7  \n",
       "2                  0                        0                     0  \n",
       "3                  7                        3                     0  \n",
       "4                  2                        2                     2  \n",
       "\n",
       "[5 rows x 35 columns]"
      ]
     },
     "execution_count": 149,
     "metadata": {},
     "output_type": "execute_result"
    }
   ],
   "source": [
    "hr.head()"
   ]
  },
  {
   "cell_type": "code",
   "execution_count": 150,
   "metadata": {},
   "outputs": [
    {
     "data": {
      "text/plain": [
       "Age                         0\n",
       "Attrition                   0\n",
       "BusinessTravel              0\n",
       "DailyRate                   0\n",
       "Department                  0\n",
       "DistanceFromHome            0\n",
       "Education                   0\n",
       "EducationField              0\n",
       "EmployeeCount               0\n",
       "EmployeeNumber              0\n",
       "EnvironmentSatisfaction     0\n",
       "Gender                      0\n",
       "HourlyRate                  0\n",
       "JobInvolvement              0\n",
       "JobLevel                    0\n",
       "JobRole                     0\n",
       "JobSatisfaction             0\n",
       "MaritalStatus               0\n",
       "MonthlyIncome               0\n",
       "MonthlyRate                 0\n",
       "NumCompaniesWorked          0\n",
       "Over18                      0\n",
       "OverTime                    0\n",
       "PercentSalaryHike           0\n",
       "PerformanceRating           0\n",
       "RelationshipSatisfaction    0\n",
       "StandardHours               0\n",
       "StockOptionLevel            0\n",
       "TotalWorkingYears           0\n",
       "TrainingTimesLastYear       0\n",
       "WorkLifeBalance             0\n",
       "YearsAtCompany              0\n",
       "YearsInCurrentRole          0\n",
       "YearsSinceLastPromotion     0\n",
       "YearsWithCurrManager        0\n",
       "dtype: int64"
      ]
     },
     "execution_count": 150,
     "metadata": {},
     "output_type": "execute_result"
    }
   ],
   "source": [
    "hr.isna().sum()"
   ]
  },
  {
   "cell_type": "code",
   "execution_count": 151,
   "metadata": {},
   "outputs": [
    {
     "name": "stdout",
     "output_type": "stream",
     "text": [
      "<class 'pandas.core.frame.DataFrame'>\n",
      "RangeIndex: 1470 entries, 0 to 1469\n",
      "Data columns (total 35 columns):\n",
      "Age                         1470 non-null int64\n",
      "Attrition                   1470 non-null object\n",
      "BusinessTravel              1470 non-null object\n",
      "DailyRate                   1470 non-null int64\n",
      "Department                  1470 non-null object\n",
      "DistanceFromHome            1470 non-null int64\n",
      "Education                   1470 non-null int64\n",
      "EducationField              1470 non-null object\n",
      "EmployeeCount               1470 non-null int64\n",
      "EmployeeNumber              1470 non-null int64\n",
      "EnvironmentSatisfaction     1470 non-null int64\n",
      "Gender                      1470 non-null object\n",
      "HourlyRate                  1470 non-null int64\n",
      "JobInvolvement              1470 non-null int64\n",
      "JobLevel                    1470 non-null int64\n",
      "JobRole                     1470 non-null object\n",
      "JobSatisfaction             1470 non-null int64\n",
      "MaritalStatus               1470 non-null object\n",
      "MonthlyIncome               1470 non-null int64\n",
      "MonthlyRate                 1470 non-null int64\n",
      "NumCompaniesWorked          1470 non-null int64\n",
      "Over18                      1470 non-null object\n",
      "OverTime                    1470 non-null object\n",
      "PercentSalaryHike           1470 non-null int64\n",
      "PerformanceRating           1470 non-null int64\n",
      "RelationshipSatisfaction    1470 non-null int64\n",
      "StandardHours               1470 non-null int64\n",
      "StockOptionLevel            1470 non-null int64\n",
      "TotalWorkingYears           1470 non-null int64\n",
      "TrainingTimesLastYear       1470 non-null int64\n",
      "WorkLifeBalance             1470 non-null int64\n",
      "YearsAtCompany              1470 non-null int64\n",
      "YearsInCurrentRole          1470 non-null int64\n",
      "YearsSinceLastPromotion     1470 non-null int64\n",
      "YearsWithCurrManager        1470 non-null int64\n",
      "dtypes: int64(26), object(9)\n",
      "memory usage: 402.0+ KB\n"
     ]
    }
   ],
   "source": [
    "hr.info()"
   ]
  },
  {
   "cell_type": "code",
   "execution_count": 152,
   "metadata": {},
   "outputs": [
    {
     "data": {
      "text/plain": [
       "No    0.84\n",
       "Yes   0.16\n",
       "Name: Attrition, dtype: float64"
      ]
     },
     "execution_count": 152,
     "metadata": {},
     "output_type": "execute_result"
    }
   ],
   "source": [
    "hr['Attrition'].value_counts(normalize=True)"
   ]
  },
  {
   "cell_type": "markdown",
   "metadata": {},
   "source": [
    "##### Attrition Visualization"
   ]
  },
  {
   "cell_type": "code",
   "execution_count": 153,
   "metadata": {},
   "outputs": [
    {
     "data": {
      "text/plain": [
       "<matplotlib.axes._subplots.AxesSubplot at 0x20f150fe518>"
      ]
     },
     "execution_count": 153,
     "metadata": {},
     "output_type": "execute_result"
    },
    {
     "data": {
      "image/png": "[encoded data removed]",
      "text/plain": [
       "<Figure size 432x288 with 1 Axes>"
      ]
     },
     "metadata": {
      "needs_background": "light"
     },
     "output_type": "display_data"
    }
   ],
   "source": [
    "sns.countplot(hr['Attrition'])"
   ]
  },
  {
   "cell_type": "markdown",
   "metadata": {},
   "source": [
    "##### Attrition relationship with Monthly Incone "
   ]
  },
  {
   "cell_type": "code",
   "execution_count": 154,
   "metadata": {},
   "outputs": [
    {
     "data": {
      "text/plain": [
       "(array([0, 1]), <a list of 2 Text xticklabel objects>)"
      ]
     },
     "execution_count": 154,
     "metadata": {},
     "output_type": "execute_result"
    },
    {
     "data": {
      "image/png": "[encoded data removed]",
      "text/plain": [
       "<Figure size 432x288 with 1 Axes>"
      ]
     },
     "metadata": {
      "needs_background": "light"
     },
     "output_type": "display_data"
    }
   ],
   "source": [
    "hr.groupby('Attrition')['MonthlyIncome'].mean().plot(kind='bar')\n",
    "plt.title('Attrition with respect to Monthly Income')\n",
    "plt.xlabel('Attrition')\n",
    "plt.ylabel('Monthly Income Mean')\n",
    "plt.xticks(rotation=0)"
   ]
  },
  {
   "cell_type": "markdown",
   "metadata": {},
   "source": [
    "##### Attrition relationship with Distance from Home"
   ]
  },
  {
   "cell_type": "code",
   "execution_count": 155,
   "metadata": {},
   "outputs": [
    {
     "data": {
      "text/plain": [
       "(array([0, 1]), <a list of 2 Text xticklabel objects>)"
      ]
     },
     "execution_count": 155,
     "metadata": {},
     "output_type": "execute_result"
    },
    {
     "data": {
      "image/png": "[encoded data removed]",
      "text/plain": [
       "<Figure size 432x288 with 1 Axes>"
      ]
     },
     "metadata": {
      "needs_background": "light"
     },
     "output_type": "display_data"
    }
   ],
   "source": [
    "hr.groupby('Attrition')['DistanceFromHome'].mean().plot(kind='bar')\n",
    "plt.title('Attrition with respect to Distance From Home')\n",
    "plt.xlabel('Attrition')\n",
    "plt.ylabel('Distance From Home Mean')\n",
    "plt.xticks(rotation=0)"
   ]
  },
  {
   "cell_type": "markdown",
   "metadata": {},
   "source": [
    "##### Attrition relationship with Department"
   ]
  },
  {
   "cell_type": "code",
   "execution_count": 156,
   "metadata": {},
   "outputs": [
    {
     "data": {
      "text/plain": [
       "(array([0, 1, 2]), <a list of 3 Text xticklabel objects>)"
      ]
     },
     "execution_count": 156,
     "metadata": {},
     "output_type": "execute_result"
    },
    {
     "data": {
      "image/png": "[encoded data removed]",
      "text/plain": [
       "<Figure size 432x288 with 1 Axes>"
      ]
     },
     "metadata": {
      "needs_background": "light"
     },
     "output_type": "display_data"
    }
   ],
   "source": [
    "pd.crosstab(hr['Department'],hr['Attrition']).plot(kind='bar', stacked=True)\n",
    "plt.title('Attrition with respect to Department')\n",
    "plt.xlabel('Department')\n",
    "plt.ylabel('Attrition Frequency')\n",
    "plt.xticks(rotation=0)"
   ]
  },
  {
   "cell_type": "markdown",
   "metadata": {},
   "source": [
    "### Feature Engineering"
   ]
  },
  {
   "cell_type": "code",
   "execution_count": 157,
   "metadata": {},
   "outputs": [],
   "source": [
    "# EmployeeCount, EmployeeNumber, Over18 and StandardHours columns are deleted\n",
    "# EmployeeNumber is unique to each employee hereas the other colums have only one values so it cannot be helpful\n",
    "# in our prediction for attritiom\n",
    "hr.drop(['EmployeeCount','EmployeeNumber','Over18','StandardHours'],axis=1,inplace=True)"
   ]
  },
  {
   "cell_type": "code",
   "execution_count": 158,
   "metadata": {},
   "outputs": [
    {
     "data": {
      "text/html": [
       "<div>\n",
       "<style scoped>\n",
       "    .dataframe tbody tr th:only-of-type {\n",
       "        vertical-align: middle;\n",
       "    }\n",
       "\n",
       "    .dataframe tbody tr th {\n",
       "        vertical-align: top;\n",
       "    }\n",
       "\n",
       "    .dataframe thead th {\n",
       "        text-align: right;\n",
       "    }\n",
       "</style>\n",
       "<table border=\"1\" class=\"dataframe\">\n",
       "  <thead>\n",
       "    <tr style=\"text-align: right;\">\n",
       "      <th></th>\n",
       "      <th>Age</th>\n",
       "      <th>Attrition</th>\n",
       "      <th>BusinessTravel</th>\n",
       "      <th>DailyRate</th>\n",
       "      <th>Department</th>\n",
       "      <th>DistanceFromHome</th>\n",
       "      <th>Education</th>\n",
       "      <th>EducationField</th>\n",
       "      <th>EnvironmentSatisfaction</th>\n",
       "      <th>Gender</th>\n",
       "      <th>...</th>\n",
       "      <th>PerformanceRating</th>\n",
       "      <th>RelationshipSatisfaction</th>\n",
       "      <th>StockOptionLevel</th>\n",
       "      <th>TotalWorkingYears</th>\n",
       "      <th>TrainingTimesLastYear</th>\n",
       "      <th>WorkLifeBalance</th>\n",
       "      <th>YearsAtCompany</th>\n",
       "      <th>YearsInCurrentRole</th>\n",
       "      <th>YearsSinceLastPromotion</th>\n",
       "      <th>YearsWithCurrManager</th>\n",
       "    </tr>\n",
       "  </thead>\n",
       "  <tbody>\n",
       "    <tr>\n",
       "      <th>0</th>\n",
       "      <td>41</td>\n",
       "      <td>Yes</td>\n",
       "      <td>Travel_Rarely</td>\n",
       "      <td>1102</td>\n",
       "      <td>Sales</td>\n",
       "      <td>1</td>\n",
       "      <td>2</td>\n",
       "      <td>Life Sciences</td>\n",
       "      <td>2</td>\n",
       "      <td>Female</td>\n",
       "      <td>...</td>\n",
       "      <td>3</td>\n",
       "      <td>1</td>\n",
       "      <td>0</td>\n",
       "      <td>8</td>\n",
       "      <td>0</td>\n",
       "      <td>1</td>\n",
       "      <td>6</td>\n",
       "      <td>4</td>\n",
       "      <td>0</td>\n",
       "      <td>5</td>\n",
       "    </tr>\n",
       "    <tr>\n",
       "      <th>1</th>\n",
       "      <td>49</td>\n",
       "      <td>No</td>\n",
       "      <td>Travel_Frequently</td>\n",
       "      <td>279</td>\n",
       "      <td>Research &amp; Development</td>\n",
       "      <td>8</td>\n",
       "      <td>1</td>\n",
       "      <td>Life Sciences</td>\n",
       "      <td>3</td>\n",
       "      <td>Male</td>\n",
       "      <td>...</td>\n",
       "      <td>4</td>\n",
       "      <td>4</td>\n",
       "      <td>1</td>\n",
       "      <td>10</td>\n",
       "      <td>3</td>\n",
       "      <td>3</td>\n",
       "      <td>10</td>\n",
       "      <td>7</td>\n",
       "      <td>1</td>\n",
       "      <td>7</td>\n",
       "    </tr>\n",
       "    <tr>\n",
       "      <th>2</th>\n",
       "      <td>37</td>\n",
       "      <td>Yes</td>\n",
       "      <td>Travel_Rarely</td>\n",
       "      <td>1373</td>\n",
       "      <td>Research &amp; Development</td>\n",
       "      <td>2</td>\n",
       "      <td>2</td>\n",
       "      <td>Other</td>\n",
       "      <td>4</td>\n",
       "      <td>Male</td>\n",
       "      <td>...</td>\n",
       "      <td>3</td>\n",
       "      <td>2</td>\n",
       "      <td>0</td>\n",
       "      <td>7</td>\n",
       "      <td>3</td>\n",
       "      <td>3</td>\n",
       "      <td>0</td>\n",
       "      <td>0</td>\n",
       "      <td>0</td>\n",
       "      <td>0</td>\n",
       "    </tr>\n",
       "    <tr>\n",
       "      <th>3</th>\n",
       "      <td>33</td>\n",
       "      <td>No</td>\n",
       "      <td>Travel_Frequently</td>\n",
       "      <td>1392</td>\n",
       "      <td>Research &amp; Development</td>\n",
       "      <td>3</td>\n",
       "      <td>4</td>\n",
       "      <td>Life Sciences</td>\n",
       "      <td>4</td>\n",
       "      <td>Female</td>\n",
       "      <td>...</td>\n",
       "      <td>3</td>\n",
       "      <td>3</td>\n",
       "      <td>0</td>\n",
       "      <td>8</td>\n",
       "      <td>3</td>\n",
       "      <td>3</td>\n",
       "      <td>8</td>\n",
       "      <td>7</td>\n",
       "      <td>3</td>\n",
       "      <td>0</td>\n",
       "    </tr>\n",
       "    <tr>\n",
       "      <th>4</th>\n",
       "      <td>27</td>\n",
       "      <td>No</td>\n",
       "      <td>Travel_Rarely</td>\n",
       "      <td>591</td>\n",
       "      <td>Research &amp; Development</td>\n",
       "      <td>2</td>\n",
       "      <td>1</td>\n",
       "      <td>Medical</td>\n",
       "      <td>1</td>\n",
       "      <td>Male</td>\n",
       "      <td>...</td>\n",
       "      <td>3</td>\n",
       "      <td>4</td>\n",
       "      <td>1</td>\n",
       "      <td>6</td>\n",
       "      <td>3</td>\n",
       "      <td>3</td>\n",
       "      <td>2</td>\n",
       "      <td>2</td>\n",
       "      <td>2</td>\n",
       "      <td>2</td>\n",
       "    </tr>\n",
       "  </tbody>\n",
       "</table>\n",
       "<p>5 rows × 31 columns</p>\n",
       "</div>"
      ],
      "text/plain": [
       "   Age Attrition     BusinessTravel  DailyRate              Department  \\\n",
       "0   41       Yes      Travel_Rarely       1102                   Sales   \n",
       "1   49        No  Travel_Frequently        279  Research & Development   \n",
       "2   37       Yes      Travel_Rarely       1373  Research & Development   \n",
       "3   33        No  Travel_Frequently       1392  Research & Development   \n",
       "4   27        No      Travel_Rarely        591  Research & Development   \n",
       "\n",
       "   DistanceFromHome  Education EducationField  EnvironmentSatisfaction  \\\n",
       "0                 1          2  Life Sciences                        2   \n",
       "1                 8          1  Life Sciences                        3   \n",
       "2                 2          2          Other                        4   \n",
       "3                 3          4  Life Sciences                        4   \n",
       "4                 2          1        Medical                        1   \n",
       "\n",
       "   Gender  ...  PerformanceRating  RelationshipSatisfaction  StockOptionLevel  \\\n",
       "0  Female  ...                  3                         1                 0   \n",
       "1    Male  ...                  4                         4                 1   \n",
       "2    Male  ...                  3                         2                 0   \n",
       "3  Female  ...                  3                         3                 0   \n",
       "4    Male  ...                  3                         4                 1   \n",
       "\n",
       "  TotalWorkingYears  TrainingTimesLastYear WorkLifeBalance  YearsAtCompany  \\\n",
       "0                 8                      0               1               6   \n",
       "1                10                      3               3              10   \n",
       "2                 7                      3               3               0   \n",
       "3                 8                      3               3               8   \n",
       "4                 6                      3               3               2   \n",
       "\n",
       "   YearsInCurrentRole  YearsSinceLastPromotion YearsWithCurrManager  \n",
       "0                   4                        0                    5  \n",
       "1                   7                        1                    7  \n",
       "2                   0                        0                    0  \n",
       "3                   7                        3                    0  \n",
       "4                   2                        2                    2  \n",
       "\n",
       "[5 rows x 31 columns]"
      ]
     },
     "execution_count": 158,
     "metadata": {},
     "output_type": "execute_result"
    }
   ],
   "source": [
    "hr.head()"
   ]
  },
  {
   "cell_type": "code",
   "execution_count": 159,
   "metadata": {},
   "outputs": [],
   "source": [
    "hr['Attrition'] = hr['Attrition'].map({'Yes':1, 'No':0}).astype(int)"
   ]
  },
  {
   "cell_type": "code",
   "execution_count": 160,
   "metadata": {},
   "outputs": [
    {
     "data": {
      "text/plain": [
       "0   0.84\n",
       "1   0.16\n",
       "Name: Attrition, dtype: float64"
      ]
     },
     "execution_count": 160,
     "metadata": {},
     "output_type": "execute_result"
    }
   ],
   "source": [
    "hr['Attrition'].value_counts(normalize=True)"
   ]
  },
  {
   "cell_type": "code",
   "execution_count": 161,
   "metadata": {},
   "outputs": [],
   "source": [
    "# Converting to categorical variables\n",
    "hr['Attrition'] = hr['Attrition'].astype('category')"
   ]
  },
  {
   "cell_type": "markdown",
   "metadata": {},
   "source": [
    "### Checking Correlation between variables"
   ]
  },
  {
   "cell_type": "code",
   "execution_count": 162,
   "metadata": {},
   "outputs": [
    {
     "data": {
      "text/html": [
       "<div>\n",
       "<style scoped>\n",
       "    .dataframe tbody tr th:only-of-type {\n",
       "        vertical-align: middle;\n",
       "    }\n",
       "\n",
       "    .dataframe tbody tr th {\n",
       "        vertical-align: top;\n",
       "    }\n",
       "\n",
       "    .dataframe thead th {\n",
       "        text-align: right;\n",
       "    }\n",
       "</style>\n",
       "<table border=\"1\" class=\"dataframe\">\n",
       "  <thead>\n",
       "    <tr style=\"text-align: right;\">\n",
       "      <th></th>\n",
       "      <th>Age</th>\n",
       "      <th>DailyRate</th>\n",
       "      <th>DistanceFromHome</th>\n",
       "      <th>Education</th>\n",
       "      <th>EnvironmentSatisfaction</th>\n",
       "      <th>HourlyRate</th>\n",
       "      <th>JobInvolvement</th>\n",
       "      <th>JobLevel</th>\n",
       "      <th>JobSatisfaction</th>\n",
       "      <th>MonthlyIncome</th>\n",
       "      <th>...</th>\n",
       "      <th>PerformanceRating</th>\n",
       "      <th>RelationshipSatisfaction</th>\n",
       "      <th>StockOptionLevel</th>\n",
       "      <th>TotalWorkingYears</th>\n",
       "      <th>TrainingTimesLastYear</th>\n",
       "      <th>WorkLifeBalance</th>\n",
       "      <th>YearsAtCompany</th>\n",
       "      <th>YearsInCurrentRole</th>\n",
       "      <th>YearsSinceLastPromotion</th>\n",
       "      <th>YearsWithCurrManager</th>\n",
       "    </tr>\n",
       "  </thead>\n",
       "  <tbody>\n",
       "    <tr>\n",
       "      <th>Age</th>\n",
       "      <td>1.00</td>\n",
       "      <td>0.01</td>\n",
       "      <td>-0.00</td>\n",
       "      <td>0.21</td>\n",
       "      <td>0.01</td>\n",
       "      <td>0.02</td>\n",
       "      <td>0.03</td>\n",
       "      <td>0.51</td>\n",
       "      <td>-0.00</td>\n",
       "      <td>0.50</td>\n",
       "      <td>...</td>\n",
       "      <td>0.00</td>\n",
       "      <td>0.05</td>\n",
       "      <td>0.04</td>\n",
       "      <td>0.68</td>\n",
       "      <td>-0.02</td>\n",
       "      <td>-0.02</td>\n",
       "      <td>0.31</td>\n",
       "      <td>0.21</td>\n",
       "      <td>0.22</td>\n",
       "      <td>0.20</td>\n",
       "    </tr>\n",
       "    <tr>\n",
       "      <th>DailyRate</th>\n",
       "      <td>0.01</td>\n",
       "      <td>1.00</td>\n",
       "      <td>-0.00</td>\n",
       "      <td>-0.02</td>\n",
       "      <td>0.02</td>\n",
       "      <td>0.02</td>\n",
       "      <td>0.05</td>\n",
       "      <td>0.00</td>\n",
       "      <td>0.03</td>\n",
       "      <td>0.01</td>\n",
       "      <td>...</td>\n",
       "      <td>0.00</td>\n",
       "      <td>0.01</td>\n",
       "      <td>0.04</td>\n",
       "      <td>0.01</td>\n",
       "      <td>0.00</td>\n",
       "      <td>-0.04</td>\n",
       "      <td>-0.03</td>\n",
       "      <td>0.01</td>\n",
       "      <td>-0.03</td>\n",
       "      <td>-0.03</td>\n",
       "    </tr>\n",
       "    <tr>\n",
       "      <th>DistanceFromHome</th>\n",
       "      <td>-0.00</td>\n",
       "      <td>-0.00</td>\n",
       "      <td>1.00</td>\n",
       "      <td>0.02</td>\n",
       "      <td>-0.02</td>\n",
       "      <td>0.03</td>\n",
       "      <td>0.01</td>\n",
       "      <td>0.01</td>\n",
       "      <td>-0.00</td>\n",
       "      <td>-0.02</td>\n",
       "      <td>...</td>\n",
       "      <td>0.03</td>\n",
       "      <td>0.01</td>\n",
       "      <td>0.04</td>\n",
       "      <td>0.00</td>\n",
       "      <td>-0.04</td>\n",
       "      <td>-0.03</td>\n",
       "      <td>0.01</td>\n",
       "      <td>0.02</td>\n",
       "      <td>0.01</td>\n",
       "      <td>0.01</td>\n",
       "    </tr>\n",
       "    <tr>\n",
       "      <th>Education</th>\n",
       "      <td>0.21</td>\n",
       "      <td>-0.02</td>\n",
       "      <td>0.02</td>\n",
       "      <td>1.00</td>\n",
       "      <td>-0.03</td>\n",
       "      <td>0.02</td>\n",
       "      <td>0.04</td>\n",
       "      <td>0.10</td>\n",
       "      <td>-0.01</td>\n",
       "      <td>0.09</td>\n",
       "      <td>...</td>\n",
       "      <td>-0.02</td>\n",
       "      <td>-0.01</td>\n",
       "      <td>0.02</td>\n",
       "      <td>0.15</td>\n",
       "      <td>-0.03</td>\n",
       "      <td>0.01</td>\n",
       "      <td>0.07</td>\n",
       "      <td>0.06</td>\n",
       "      <td>0.05</td>\n",
       "      <td>0.07</td>\n",
       "    </tr>\n",
       "    <tr>\n",
       "      <th>EnvironmentSatisfaction</th>\n",
       "      <td>0.01</td>\n",
       "      <td>0.02</td>\n",
       "      <td>-0.02</td>\n",
       "      <td>-0.03</td>\n",
       "      <td>1.00</td>\n",
       "      <td>-0.05</td>\n",
       "      <td>-0.01</td>\n",
       "      <td>0.00</td>\n",
       "      <td>-0.01</td>\n",
       "      <td>-0.01</td>\n",
       "      <td>...</td>\n",
       "      <td>-0.03</td>\n",
       "      <td>0.01</td>\n",
       "      <td>0.00</td>\n",
       "      <td>-0.00</td>\n",
       "      <td>-0.02</td>\n",
       "      <td>0.03</td>\n",
       "      <td>0.00</td>\n",
       "      <td>0.02</td>\n",
       "      <td>0.02</td>\n",
       "      <td>-0.00</td>\n",
       "    </tr>\n",
       "    <tr>\n",
       "      <th>HourlyRate</th>\n",
       "      <td>0.02</td>\n",
       "      <td>0.02</td>\n",
       "      <td>0.03</td>\n",
       "      <td>0.02</td>\n",
       "      <td>-0.05</td>\n",
       "      <td>1.00</td>\n",
       "      <td>0.04</td>\n",
       "      <td>-0.03</td>\n",
       "      <td>-0.07</td>\n",
       "      <td>-0.02</td>\n",
       "      <td>...</td>\n",
       "      <td>-0.00</td>\n",
       "      <td>0.00</td>\n",
       "      <td>0.05</td>\n",
       "      <td>-0.00</td>\n",
       "      <td>-0.01</td>\n",
       "      <td>-0.00</td>\n",
       "      <td>-0.02</td>\n",
       "      <td>-0.02</td>\n",
       "      <td>-0.03</td>\n",
       "      <td>-0.02</td>\n",
       "    </tr>\n",
       "    <tr>\n",
       "      <th>JobInvolvement</th>\n",
       "      <td>0.03</td>\n",
       "      <td>0.05</td>\n",
       "      <td>0.01</td>\n",
       "      <td>0.04</td>\n",
       "      <td>-0.01</td>\n",
       "      <td>0.04</td>\n",
       "      <td>1.00</td>\n",
       "      <td>-0.01</td>\n",
       "      <td>-0.02</td>\n",
       "      <td>-0.02</td>\n",
       "      <td>...</td>\n",
       "      <td>-0.03</td>\n",
       "      <td>0.03</td>\n",
       "      <td>0.02</td>\n",
       "      <td>-0.01</td>\n",
       "      <td>-0.02</td>\n",
       "      <td>-0.01</td>\n",
       "      <td>-0.02</td>\n",
       "      <td>0.01</td>\n",
       "      <td>-0.02</td>\n",
       "      <td>0.03</td>\n",
       "    </tr>\n",
       "    <tr>\n",
       "      <th>JobLevel</th>\n",
       "      <td>0.51</td>\n",
       "      <td>0.00</td>\n",
       "      <td>0.01</td>\n",
       "      <td>0.10</td>\n",
       "      <td>0.00</td>\n",
       "      <td>-0.03</td>\n",
       "      <td>-0.01</td>\n",
       "      <td>1.00</td>\n",
       "      <td>-0.00</td>\n",
       "      <td>0.95</td>\n",
       "      <td>...</td>\n",
       "      <td>-0.02</td>\n",
       "      <td>0.02</td>\n",
       "      <td>0.01</td>\n",
       "      <td>0.78</td>\n",
       "      <td>-0.02</td>\n",
       "      <td>0.04</td>\n",
       "      <td>0.53</td>\n",
       "      <td>0.39</td>\n",
       "      <td>0.35</td>\n",
       "      <td>0.38</td>\n",
       "    </tr>\n",
       "    <tr>\n",
       "      <th>JobSatisfaction</th>\n",
       "      <td>-0.00</td>\n",
       "      <td>0.03</td>\n",
       "      <td>-0.00</td>\n",
       "      <td>-0.01</td>\n",
       "      <td>-0.01</td>\n",
       "      <td>-0.07</td>\n",
       "      <td>-0.02</td>\n",
       "      <td>-0.00</td>\n",
       "      <td>1.00</td>\n",
       "      <td>-0.01</td>\n",
       "      <td>...</td>\n",
       "      <td>0.00</td>\n",
       "      <td>-0.01</td>\n",
       "      <td>0.01</td>\n",
       "      <td>-0.02</td>\n",
       "      <td>-0.01</td>\n",
       "      <td>-0.02</td>\n",
       "      <td>-0.00</td>\n",
       "      <td>-0.00</td>\n",
       "      <td>-0.02</td>\n",
       "      <td>-0.03</td>\n",
       "    </tr>\n",
       "    <tr>\n",
       "      <th>MonthlyIncome</th>\n",
       "      <td>0.50</td>\n",
       "      <td>0.01</td>\n",
       "      <td>-0.02</td>\n",
       "      <td>0.09</td>\n",
       "      <td>-0.01</td>\n",
       "      <td>-0.02</td>\n",
       "      <td>-0.02</td>\n",
       "      <td>0.95</td>\n",
       "      <td>-0.01</td>\n",
       "      <td>1.00</td>\n",
       "      <td>...</td>\n",
       "      <td>-0.02</td>\n",
       "      <td>0.03</td>\n",
       "      <td>0.01</td>\n",
       "      <td>0.77</td>\n",
       "      <td>-0.02</td>\n",
       "      <td>0.03</td>\n",
       "      <td>0.51</td>\n",
       "      <td>0.36</td>\n",
       "      <td>0.34</td>\n",
       "      <td>0.34</td>\n",
       "    </tr>\n",
       "    <tr>\n",
       "      <th>MonthlyRate</th>\n",
       "      <td>0.03</td>\n",
       "      <td>-0.03</td>\n",
       "      <td>0.03</td>\n",
       "      <td>-0.03</td>\n",
       "      <td>0.04</td>\n",
       "      <td>-0.02</td>\n",
       "      <td>-0.02</td>\n",
       "      <td>0.04</td>\n",
       "      <td>0.00</td>\n",
       "      <td>0.03</td>\n",
       "      <td>...</td>\n",
       "      <td>-0.01</td>\n",
       "      <td>-0.00</td>\n",
       "      <td>-0.03</td>\n",
       "      <td>0.03</td>\n",
       "      <td>0.00</td>\n",
       "      <td>0.01</td>\n",
       "      <td>-0.02</td>\n",
       "      <td>-0.01</td>\n",
       "      <td>0.00</td>\n",
       "      <td>-0.04</td>\n",
       "    </tr>\n",
       "    <tr>\n",
       "      <th>NumCompaniesWorked</th>\n",
       "      <td>0.30</td>\n",
       "      <td>0.04</td>\n",
       "      <td>-0.03</td>\n",
       "      <td>0.13</td>\n",
       "      <td>0.01</td>\n",
       "      <td>0.02</td>\n",
       "      <td>0.02</td>\n",
       "      <td>0.14</td>\n",
       "      <td>-0.06</td>\n",
       "      <td>0.15</td>\n",
       "      <td>...</td>\n",
       "      <td>-0.01</td>\n",
       "      <td>0.05</td>\n",
       "      <td>0.03</td>\n",
       "      <td>0.24</td>\n",
       "      <td>-0.07</td>\n",
       "      <td>-0.01</td>\n",
       "      <td>-0.12</td>\n",
       "      <td>-0.09</td>\n",
       "      <td>-0.04</td>\n",
       "      <td>-0.11</td>\n",
       "    </tr>\n",
       "    <tr>\n",
       "      <th>PercentSalaryHike</th>\n",
       "      <td>0.00</td>\n",
       "      <td>0.02</td>\n",
       "      <td>0.04</td>\n",
       "      <td>-0.01</td>\n",
       "      <td>-0.03</td>\n",
       "      <td>-0.01</td>\n",
       "      <td>-0.02</td>\n",
       "      <td>-0.03</td>\n",
       "      <td>0.02</td>\n",
       "      <td>-0.03</td>\n",
       "      <td>...</td>\n",
       "      <td>0.77</td>\n",
       "      <td>-0.04</td>\n",
       "      <td>0.01</td>\n",
       "      <td>-0.02</td>\n",
       "      <td>-0.01</td>\n",
       "      <td>-0.00</td>\n",
       "      <td>-0.04</td>\n",
       "      <td>-0.00</td>\n",
       "      <td>-0.02</td>\n",
       "      <td>-0.01</td>\n",
       "    </tr>\n",
       "    <tr>\n",
       "      <th>PerformanceRating</th>\n",
       "      <td>0.00</td>\n",
       "      <td>0.00</td>\n",
       "      <td>0.03</td>\n",
       "      <td>-0.02</td>\n",
       "      <td>-0.03</td>\n",
       "      <td>-0.00</td>\n",
       "      <td>-0.03</td>\n",
       "      <td>-0.02</td>\n",
       "      <td>0.00</td>\n",
       "      <td>-0.02</td>\n",
       "      <td>...</td>\n",
       "      <td>1.00</td>\n",
       "      <td>-0.03</td>\n",
       "      <td>0.00</td>\n",
       "      <td>0.01</td>\n",
       "      <td>-0.02</td>\n",
       "      <td>0.00</td>\n",
       "      <td>0.00</td>\n",
       "      <td>0.03</td>\n",
       "      <td>0.02</td>\n",
       "      <td>0.02</td>\n",
       "    </tr>\n",
       "    <tr>\n",
       "      <th>RelationshipSatisfaction</th>\n",
       "      <td>0.05</td>\n",
       "      <td>0.01</td>\n",
       "      <td>0.01</td>\n",
       "      <td>-0.01</td>\n",
       "      <td>0.01</td>\n",
       "      <td>0.00</td>\n",
       "      <td>0.03</td>\n",
       "      <td>0.02</td>\n",
       "      <td>-0.01</td>\n",
       "      <td>0.03</td>\n",
       "      <td>...</td>\n",
       "      <td>-0.03</td>\n",
       "      <td>1.00</td>\n",
       "      <td>-0.05</td>\n",
       "      <td>0.02</td>\n",
       "      <td>0.00</td>\n",
       "      <td>0.02</td>\n",
       "      <td>0.02</td>\n",
       "      <td>-0.02</td>\n",
       "      <td>0.03</td>\n",
       "      <td>-0.00</td>\n",
       "    </tr>\n",
       "    <tr>\n",
       "      <th>StockOptionLevel</th>\n",
       "      <td>0.04</td>\n",
       "      <td>0.04</td>\n",
       "      <td>0.04</td>\n",
       "      <td>0.02</td>\n",
       "      <td>0.00</td>\n",
       "      <td>0.05</td>\n",
       "      <td>0.02</td>\n",
       "      <td>0.01</td>\n",
       "      <td>0.01</td>\n",
       "      <td>0.01</td>\n",
       "      <td>...</td>\n",
       "      <td>0.00</td>\n",
       "      <td>-0.05</td>\n",
       "      <td>1.00</td>\n",
       "      <td>0.01</td>\n",
       "      <td>0.01</td>\n",
       "      <td>0.00</td>\n",
       "      <td>0.02</td>\n",
       "      <td>0.05</td>\n",
       "      <td>0.01</td>\n",
       "      <td>0.02</td>\n",
       "    </tr>\n",
       "    <tr>\n",
       "      <th>TotalWorkingYears</th>\n",
       "      <td>0.68</td>\n",
       "      <td>0.01</td>\n",
       "      <td>0.00</td>\n",
       "      <td>0.15</td>\n",
       "      <td>-0.00</td>\n",
       "      <td>-0.00</td>\n",
       "      <td>-0.01</td>\n",
       "      <td>0.78</td>\n",
       "      <td>-0.02</td>\n",
       "      <td>0.77</td>\n",
       "      <td>...</td>\n",
       "      <td>0.01</td>\n",
       "      <td>0.02</td>\n",
       "      <td>0.01</td>\n",
       "      <td>1.00</td>\n",
       "      <td>-0.04</td>\n",
       "      <td>0.00</td>\n",
       "      <td>0.63</td>\n",
       "      <td>0.46</td>\n",
       "      <td>0.40</td>\n",
       "      <td>0.46</td>\n",
       "    </tr>\n",
       "    <tr>\n",
       "      <th>TrainingTimesLastYear</th>\n",
       "      <td>-0.02</td>\n",
       "      <td>0.00</td>\n",
       "      <td>-0.04</td>\n",
       "      <td>-0.03</td>\n",
       "      <td>-0.02</td>\n",
       "      <td>-0.01</td>\n",
       "      <td>-0.02</td>\n",
       "      <td>-0.02</td>\n",
       "      <td>-0.01</td>\n",
       "      <td>-0.02</td>\n",
       "      <td>...</td>\n",
       "      <td>-0.02</td>\n",
       "      <td>0.00</td>\n",
       "      <td>0.01</td>\n",
       "      <td>-0.04</td>\n",
       "      <td>1.00</td>\n",
       "      <td>0.03</td>\n",
       "      <td>0.00</td>\n",
       "      <td>-0.01</td>\n",
       "      <td>-0.00</td>\n",
       "      <td>-0.00</td>\n",
       "    </tr>\n",
       "    <tr>\n",
       "      <th>WorkLifeBalance</th>\n",
       "      <td>-0.02</td>\n",
       "      <td>-0.04</td>\n",
       "      <td>-0.03</td>\n",
       "      <td>0.01</td>\n",
       "      <td>0.03</td>\n",
       "      <td>-0.00</td>\n",
       "      <td>-0.01</td>\n",
       "      <td>0.04</td>\n",
       "      <td>-0.02</td>\n",
       "      <td>0.03</td>\n",
       "      <td>...</td>\n",
       "      <td>0.00</td>\n",
       "      <td>0.02</td>\n",
       "      <td>0.00</td>\n",
       "      <td>0.00</td>\n",
       "      <td>0.03</td>\n",
       "      <td>1.00</td>\n",
       "      <td>0.01</td>\n",
       "      <td>0.05</td>\n",
       "      <td>0.01</td>\n",
       "      <td>0.00</td>\n",
       "    </tr>\n",
       "    <tr>\n",
       "      <th>YearsAtCompany</th>\n",
       "      <td>0.31</td>\n",
       "      <td>-0.03</td>\n",
       "      <td>0.01</td>\n",
       "      <td>0.07</td>\n",
       "      <td>0.00</td>\n",
       "      <td>-0.02</td>\n",
       "      <td>-0.02</td>\n",
       "      <td>0.53</td>\n",
       "      <td>-0.00</td>\n",
       "      <td>0.51</td>\n",
       "      <td>...</td>\n",
       "      <td>0.00</td>\n",
       "      <td>0.02</td>\n",
       "      <td>0.02</td>\n",
       "      <td>0.63</td>\n",
       "      <td>0.00</td>\n",
       "      <td>0.01</td>\n",
       "      <td>1.00</td>\n",
       "      <td>0.76</td>\n",
       "      <td>0.62</td>\n",
       "      <td>0.77</td>\n",
       "    </tr>\n",
       "    <tr>\n",
       "      <th>YearsInCurrentRole</th>\n",
       "      <td>0.21</td>\n",
       "      <td>0.01</td>\n",
       "      <td>0.02</td>\n",
       "      <td>0.06</td>\n",
       "      <td>0.02</td>\n",
       "      <td>-0.02</td>\n",
       "      <td>0.01</td>\n",
       "      <td>0.39</td>\n",
       "      <td>-0.00</td>\n",
       "      <td>0.36</td>\n",
       "      <td>...</td>\n",
       "      <td>0.03</td>\n",
       "      <td>-0.02</td>\n",
       "      <td>0.05</td>\n",
       "      <td>0.46</td>\n",
       "      <td>-0.01</td>\n",
       "      <td>0.05</td>\n",
       "      <td>0.76</td>\n",
       "      <td>1.00</td>\n",
       "      <td>0.55</td>\n",
       "      <td>0.71</td>\n",
       "    </tr>\n",
       "    <tr>\n",
       "      <th>YearsSinceLastPromotion</th>\n",
       "      <td>0.22</td>\n",
       "      <td>-0.03</td>\n",
       "      <td>0.01</td>\n",
       "      <td>0.05</td>\n",
       "      <td>0.02</td>\n",
       "      <td>-0.03</td>\n",
       "      <td>-0.02</td>\n",
       "      <td>0.35</td>\n",
       "      <td>-0.02</td>\n",
       "      <td>0.34</td>\n",
       "      <td>...</td>\n",
       "      <td>0.02</td>\n",
       "      <td>0.03</td>\n",
       "      <td>0.01</td>\n",
       "      <td>0.40</td>\n",
       "      <td>-0.00</td>\n",
       "      <td>0.01</td>\n",
       "      <td>0.62</td>\n",
       "      <td>0.55</td>\n",
       "      <td>1.00</td>\n",
       "      <td>0.51</td>\n",
       "    </tr>\n",
       "    <tr>\n",
       "      <th>YearsWithCurrManager</th>\n",
       "      <td>0.20</td>\n",
       "      <td>-0.03</td>\n",
       "      <td>0.01</td>\n",
       "      <td>0.07</td>\n",
       "      <td>-0.00</td>\n",
       "      <td>-0.02</td>\n",
       "      <td>0.03</td>\n",
       "      <td>0.38</td>\n",
       "      <td>-0.03</td>\n",
       "      <td>0.34</td>\n",
       "      <td>...</td>\n",
       "      <td>0.02</td>\n",
       "      <td>-0.00</td>\n",
       "      <td>0.02</td>\n",
       "      <td>0.46</td>\n",
       "      <td>-0.00</td>\n",
       "      <td>0.00</td>\n",
       "      <td>0.77</td>\n",
       "      <td>0.71</td>\n",
       "      <td>0.51</td>\n",
       "      <td>1.00</td>\n",
       "    </tr>\n",
       "  </tbody>\n",
       "</table>\n",
       "<p>23 rows × 23 columns</p>\n",
       "</div>"
      ],
      "text/plain": [
       "                           Age  DailyRate  DistanceFromHome  Education  \\\n",
       "Age                       1.00       0.01             -0.00       0.21   \n",
       "DailyRate                 0.01       1.00             -0.00      -0.02   \n",
       "DistanceFromHome         -0.00      -0.00              1.00       0.02   \n",
       "Education                 0.21      -0.02              0.02       1.00   \n",
       "EnvironmentSatisfaction   0.01       0.02             -0.02      -0.03   \n",
       "HourlyRate                0.02       0.02              0.03       0.02   \n",
       "JobInvolvement            0.03       0.05              0.01       0.04   \n",
       "JobLevel                  0.51       0.00              0.01       0.10   \n",
       "JobSatisfaction          -0.00       0.03             -0.00      -0.01   \n",
       "MonthlyIncome             0.50       0.01             -0.02       0.09   \n",
       "MonthlyRate               0.03      -0.03              0.03      -0.03   \n",
       "NumCompaniesWorked        0.30       0.04             -0.03       0.13   \n",
       "PercentSalaryHike         0.00       0.02              0.04      -0.01   \n",
       "PerformanceRating         0.00       0.00              0.03      -0.02   \n",
       "RelationshipSatisfaction  0.05       0.01              0.01      -0.01   \n",
       "StockOptionLevel          0.04       0.04              0.04       0.02   \n",
       "TotalWorkingYears         0.68       0.01              0.00       0.15   \n",
       "TrainingTimesLastYear    -0.02       0.00             -0.04      -0.03   \n",
       "WorkLifeBalance          -0.02      -0.04             -0.03       0.01   \n",
       "YearsAtCompany            0.31      -0.03              0.01       0.07   \n",
       "YearsInCurrentRole        0.21       0.01              0.02       0.06   \n",
       "YearsSinceLastPromotion   0.22      -0.03              0.01       0.05   \n",
       "YearsWithCurrManager      0.20      -0.03              0.01       0.07   \n",
       "\n",
       "                          EnvironmentSatisfaction  HourlyRate  JobInvolvement  \\\n",
       "Age                                          0.01        0.02            0.03   \n",
       "DailyRate                                    0.02        0.02            0.05   \n",
       "DistanceFromHome                            -0.02        0.03            0.01   \n",
       "Education                                   -0.03        0.02            0.04   \n",
       "EnvironmentSatisfaction                      1.00       -0.05           -0.01   \n",
       "HourlyRate                                  -0.05        1.00            0.04   \n",
       "JobInvolvement                              -0.01        0.04            1.00   \n",
       "JobLevel                                     0.00       -0.03           -0.01   \n",
       "JobSatisfaction                             -0.01       -0.07           -0.02   \n",
       "MonthlyIncome                               -0.01       -0.02           -0.02   \n",
       "MonthlyRate                                  0.04       -0.02           -0.02   \n",
       "NumCompaniesWorked                           0.01        0.02            0.02   \n",
       "PercentSalaryHike                           -0.03       -0.01           -0.02   \n",
       "PerformanceRating                           -0.03       -0.00           -0.03   \n",
       "RelationshipSatisfaction                     0.01        0.00            0.03   \n",
       "StockOptionLevel                             0.00        0.05            0.02   \n",
       "TotalWorkingYears                           -0.00       -0.00           -0.01   \n",
       "TrainingTimesLastYear                       -0.02       -0.01           -0.02   \n",
       "WorkLifeBalance                              0.03       -0.00           -0.01   \n",
       "YearsAtCompany                               0.00       -0.02           -0.02   \n",
       "YearsInCurrentRole                           0.02       -0.02            0.01   \n",
       "YearsSinceLastPromotion                      0.02       -0.03           -0.02   \n",
       "YearsWithCurrManager                        -0.00       -0.02            0.03   \n",
       "\n",
       "                          JobLevel  JobSatisfaction  MonthlyIncome  ...  \\\n",
       "Age                           0.51            -0.00           0.50  ...   \n",
       "DailyRate                     0.00             0.03           0.01  ...   \n",
       "DistanceFromHome              0.01            -0.00          -0.02  ...   \n",
       "Education                     0.10            -0.01           0.09  ...   \n",
       "EnvironmentSatisfaction       0.00            -0.01          -0.01  ...   \n",
       "HourlyRate                   -0.03            -0.07          -0.02  ...   \n",
       "JobInvolvement               -0.01            -0.02          -0.02  ...   \n",
       "JobLevel                      1.00            -0.00           0.95  ...   \n",
       "JobSatisfaction              -0.00             1.00          -0.01  ...   \n",
       "MonthlyIncome                 0.95            -0.01           1.00  ...   \n",
       "MonthlyRate                   0.04             0.00           0.03  ...   \n",
       "NumCompaniesWorked            0.14            -0.06           0.15  ...   \n",
       "PercentSalaryHike            -0.03             0.02          -0.03  ...   \n",
       "PerformanceRating            -0.02             0.00          -0.02  ...   \n",
       "RelationshipSatisfaction      0.02            -0.01           0.03  ...   \n",
       "StockOptionLevel              0.01             0.01           0.01  ...   \n",
       "TotalWorkingYears             0.78            -0.02           0.77  ...   \n",
       "TrainingTimesLastYear        -0.02            -0.01          -0.02  ...   \n",
       "WorkLifeBalance               0.04            -0.02           0.03  ...   \n",
       "YearsAtCompany                0.53            -0.00           0.51  ...   \n",
       "YearsInCurrentRole            0.39            -0.00           0.36  ...   \n",
       "YearsSinceLastPromotion       0.35            -0.02           0.34  ...   \n",
       "YearsWithCurrManager          0.38            -0.03           0.34  ...   \n",
       "\n",
       "                          PerformanceRating  RelationshipSatisfaction  \\\n",
       "Age                                    0.00                      0.05   \n",
       "DailyRate                              0.00                      0.01   \n",
       "DistanceFromHome                       0.03                      0.01   \n",
       "Education                             -0.02                     -0.01   \n",
       "EnvironmentSatisfaction               -0.03                      0.01   \n",
       "HourlyRate                            -0.00                      0.00   \n",
       "JobInvolvement                        -0.03                      0.03   \n",
       "JobLevel                              -0.02                      0.02   \n",
       "JobSatisfaction                        0.00                     -0.01   \n",
       "MonthlyIncome                         -0.02                      0.03   \n",
       "MonthlyRate                           -0.01                     -0.00   \n",
       "NumCompaniesWorked                    -0.01                      0.05   \n",
       "PercentSalaryHike                      0.77                     -0.04   \n",
       "PerformanceRating                      1.00                     -0.03   \n",
       "RelationshipSatisfaction              -0.03                      1.00   \n",
       "StockOptionLevel                       0.00                     -0.05   \n",
       "TotalWorkingYears                      0.01                      0.02   \n",
       "TrainingTimesLastYear                 -0.02                      0.00   \n",
       "WorkLifeBalance                        0.00                      0.02   \n",
       "YearsAtCompany                         0.00                      0.02   \n",
       "YearsInCurrentRole                     0.03                     -0.02   \n",
       "YearsSinceLastPromotion                0.02                      0.03   \n",
       "YearsWithCurrManager                   0.02                     -0.00   \n",
       "\n",
       "                          StockOptionLevel  TotalWorkingYears  \\\n",
       "Age                                   0.04               0.68   \n",
       "DailyRate                             0.04               0.01   \n",
       "DistanceFromHome                      0.04               0.00   \n",
       "Education                             0.02               0.15   \n",
       "EnvironmentSatisfaction               0.00              -0.00   \n",
       "HourlyRate                            0.05              -0.00   \n",
       "JobInvolvement                        0.02              -0.01   \n",
       "JobLevel                              0.01               0.78   \n",
       "JobSatisfaction                       0.01              -0.02   \n",
       "MonthlyIncome                         0.01               0.77   \n",
       "MonthlyRate                          -0.03               0.03   \n",
       "NumCompaniesWorked                    0.03               0.24   \n",
       "PercentSalaryHike                     0.01              -0.02   \n",
       "PerformanceRating                     0.00               0.01   \n",
       "RelationshipSatisfaction             -0.05               0.02   \n",
       "StockOptionLevel                      1.00               0.01   \n",
       "TotalWorkingYears                     0.01               1.00   \n",
       "TrainingTimesLastYear                 0.01              -0.04   \n",
       "WorkLifeBalance                       0.00               0.00   \n",
       "YearsAtCompany                        0.02               0.63   \n",
       "YearsInCurrentRole                    0.05               0.46   \n",
       "YearsSinceLastPromotion               0.01               0.40   \n",
       "YearsWithCurrManager                  0.02               0.46   \n",
       "\n",
       "                          TrainingTimesLastYear  WorkLifeBalance  \\\n",
       "Age                                       -0.02            -0.02   \n",
       "DailyRate                                  0.00            -0.04   \n",
       "DistanceFromHome                          -0.04            -0.03   \n",
       "Education                                 -0.03             0.01   \n",
       "EnvironmentSatisfaction                   -0.02             0.03   \n",
       "HourlyRate                                -0.01            -0.00   \n",
       "JobInvolvement                            -0.02            -0.01   \n",
       "JobLevel                                  -0.02             0.04   \n",
       "JobSatisfaction                           -0.01            -0.02   \n",
       "MonthlyIncome                             -0.02             0.03   \n",
       "MonthlyRate                                0.00             0.01   \n",
       "NumCompaniesWorked                        -0.07            -0.01   \n",
       "PercentSalaryHike                         -0.01            -0.00   \n",
       "PerformanceRating                         -0.02             0.00   \n",
       "RelationshipSatisfaction                   0.00             0.02   \n",
       "StockOptionLevel                           0.01             0.00   \n",
       "TotalWorkingYears                         -0.04             0.00   \n",
       "TrainingTimesLastYear                      1.00             0.03   \n",
       "WorkLifeBalance                            0.03             1.00   \n",
       "YearsAtCompany                             0.00             0.01   \n",
       "YearsInCurrentRole                        -0.01             0.05   \n",
       "YearsSinceLastPromotion                   -0.00             0.01   \n",
       "YearsWithCurrManager                      -0.00             0.00   \n",
       "\n",
       "                          YearsAtCompany  YearsInCurrentRole  \\\n",
       "Age                                 0.31                0.21   \n",
       "DailyRate                          -0.03                0.01   \n",
       "DistanceFromHome                    0.01                0.02   \n",
       "Education                           0.07                0.06   \n",
       "EnvironmentSatisfaction             0.00                0.02   \n",
       "HourlyRate                         -0.02               -0.02   \n",
       "JobInvolvement                     -0.02                0.01   \n",
       "JobLevel                            0.53                0.39   \n",
       "JobSatisfaction                    -0.00               -0.00   \n",
       "MonthlyIncome                       0.51                0.36   \n",
       "MonthlyRate                        -0.02               -0.01   \n",
       "NumCompaniesWorked                 -0.12               -0.09   \n",
       "PercentSalaryHike                  -0.04               -0.00   \n",
       "PerformanceRating                   0.00                0.03   \n",
       "RelationshipSatisfaction            0.02               -0.02   \n",
       "StockOptionLevel                    0.02                0.05   \n",
       "TotalWorkingYears                   0.63                0.46   \n",
       "TrainingTimesLastYear               0.00               -0.01   \n",
       "WorkLifeBalance                     0.01                0.05   \n",
       "YearsAtCompany                      1.00                0.76   \n",
       "YearsInCurrentRole                  0.76                1.00   \n",
       "YearsSinceLastPromotion             0.62                0.55   \n",
       "YearsWithCurrManager                0.77                0.71   \n",
       "\n",
       "                          YearsSinceLastPromotion  YearsWithCurrManager  \n",
       "Age                                          0.22                  0.20  \n",
       "DailyRate                                   -0.03                 -0.03  \n",
       "DistanceFromHome                             0.01                  0.01  \n",
       "Education                                    0.05                  0.07  \n",
       "EnvironmentSatisfaction                      0.02                 -0.00  \n",
       "HourlyRate                                  -0.03                 -0.02  \n",
       "JobInvolvement                              -0.02                  0.03  \n",
       "JobLevel                                     0.35                  0.38  \n",
       "JobSatisfaction                             -0.02                 -0.03  \n",
       "MonthlyIncome                                0.34                  0.34  \n",
       "MonthlyRate                                  0.00                 -0.04  \n",
       "NumCompaniesWorked                          -0.04                 -0.11  \n",
       "PercentSalaryHike                           -0.02                 -0.01  \n",
       "PerformanceRating                            0.02                  0.02  \n",
       "RelationshipSatisfaction                     0.03                 -0.00  \n",
       "StockOptionLevel                             0.01                  0.02  \n",
       "TotalWorkingYears                            0.40                  0.46  \n",
       "TrainingTimesLastYear                       -0.00                 -0.00  \n",
       "WorkLifeBalance                              0.01                  0.00  \n",
       "YearsAtCompany                               0.62                  0.77  \n",
       "YearsInCurrentRole                           0.55                  0.71  \n",
       "YearsSinceLastPromotion                      1.00                  0.51  \n",
       "YearsWithCurrManager                         0.51                  1.00  \n",
       "\n",
       "[23 rows x 23 columns]"
      ]
     },
     "execution_count": 162,
     "metadata": {},
     "output_type": "execute_result"
    }
   ],
   "source": [
    "#Checking correlation between variables\n",
    "hr.corr()"
   ]
  },
  {
   "cell_type": "code",
   "execution_count": 230,
   "metadata": {},
   "outputs": [
    {
     "data": {
      "text/plain": [
       "<matplotlib.axes._subplots.AxesSubplot at 0x20f189fb668>"
      ]
     },
     "execution_count": 230,
     "metadata": {},
     "output_type": "execute_result"
    },
    {
     "data": {
      "image/png": "[encoded data removed]",
      "text/plain": [
       "<Figure size 1080x1080 with 2 Axes>"
      ]
     },
     "metadata": {
      "needs_background": "light"
     },
     "output_type": "display_data"
    }
   ],
   "source": [
    "plt.figure(figsize=(15,15))\n",
    "sns.heatmap(hr.corr(),annot=False)"
   ]
  },
  {
   "cell_type": "markdown",
   "metadata": {},
   "source": [
    "##### It can be observed that the independent variables are not higly correlated to one another therefore there is no need for Principal Component Analysis (PCA)"
   ]
  },
  {
   "cell_type": "code",
   "execution_count": 164,
   "metadata": {},
   "outputs": [],
   "source": [
    "#Split into X and Y\n",
    "X = hr.drop(['Attrition'], axis=1)\n",
    "y = hr[['Attrition']]"
   ]
  },
  {
   "cell_type": "code",
   "execution_count": 165,
   "metadata": {},
   "outputs": [],
   "source": [
    "X = pd.get_dummies(X,drop_first=True)"
   ]
  },
  {
   "cell_type": "markdown",
   "metadata": {},
   "source": [
    "### Using SMOTE because of unbalanced dataset"
   ]
  },
  {
   "cell_type": "code",
   "execution_count": 170,
   "metadata": {},
   "outputs": [],
   "source": [
    "X1 = np.array(X)\n",
    "y1 = np.array(y)"
   ]
  },
  {
   "cell_type": "code",
   "execution_count": 171,
   "metadata": {},
   "outputs": [
    {
     "name": "stdout",
     "output_type": "stream",
     "text": [
      "Shape of X: (1470, 44)\n",
      "Shape of y: (1470, 1)\n"
     ]
    }
   ],
   "source": [
    "#X = np.array(hr.ix[:, hr.columns != 'Attrition'])\n",
    "#y = np.array(hr.ix[:, hr.columns == 'Attrition'])\n",
    "print('Shape of X: {}'.format(X1.shape))\n",
    "print('Shape of y: {}'.format(y1.shape))"
   ]
  },
  {
   "cell_type": "code",
   "execution_count": 172,
   "metadata": {},
   "outputs": [
    {
     "name": "stdout",
     "output_type": "stream",
     "text": [
      "Before OverSampling, counts of label '1': [191]\n",
      "Before OverSampling, counts of label '0': [985] \n",
      "\n"
     ]
    }
   ],
   "source": [
    "from sklearn.model_selection import train_test_split\n",
    "X_train, X_test, y_train, y_test = train_test_split(X1, y1, test_size=0.20, random_state = 420)\n",
    "print(\"Before OverSampling, counts of label '1': {}\".format(sum(y_train==1)))\n",
    "print(\"Before OverSampling, counts of label '0': {} \\n\".format(sum(y_train==0)))"
   ]
  },
  {
   "cell_type": "code",
   "execution_count": 173,
   "metadata": {},
   "outputs": [
    {
     "name": "stdout",
     "output_type": "stream",
     "text": [
      "After OverSampling, counts of label '1': 985\n",
      "After OverSampling, counts of label '0': 985\n"
     ]
    }
   ],
   "source": [
    "from imblearn.over_sampling import SMOTE\n",
    "sm = SMOTE(random_state=2)\n",
    "X_train_res, y_train_res = sm.fit_sample(X_train, y_train)\n",
    "print(\"After OverSampling, counts of label '1': {}\".format(sum(y_train_res==1)))\n",
    "print(\"After OverSampling, counts of label '0': {}\".format(sum(y_train_res==0)))"
   ]
  },
  {
   "cell_type": "markdown",
   "metadata": {},
   "source": [
    "### Scaling"
   ]
  },
  {
   "cell_type": "code",
   "execution_count": 174,
   "metadata": {},
   "outputs": [],
   "source": [
    "#Feature scaling- convergence faster , no bias\n",
    "from sklearn.preprocessing import StandardScaler\n",
    "sc = StandardScaler()  \n",
    "X_train_res = sc.fit_transform(X_train_res)  \n",
    "X_test = sc.transform(X_test)"
   ]
  },
  {
   "cell_type": "code",
   "execution_count": 175,
   "metadata": {},
   "outputs": [
    {
     "name": "stdout",
     "output_type": "stream",
     "text": [
      "(1970, 44)\n",
      "(294, 44)\n"
     ]
    }
   ],
   "source": [
    "print(X_train_res.shape)\n",
    "print(X_test.shape)"
   ]
  },
  {
   "cell_type": "markdown",
   "metadata": {},
   "source": [
    "### Logistic Regression "
   ]
  },
  {
   "cell_type": "code",
   "execution_count": 176,
   "metadata": {},
   "outputs": [
    {
     "name": "stdout",
     "output_type": "stream",
     "text": [
      "Warning: Maximum number of iterations has been exceeded.\n",
      "         Current function value: 0.297185\n",
      "         Iterations: 35\n",
      "         Function evaluations: 51\n",
      "         Gradient evaluations: 41\n"
     ]
    }
   ],
   "source": [
    "import statsmodels.api as sm\n",
    "logit = sm.Logit(y, sm.add_constant(X))\n",
    "lg = logit.fit(method='bfgs')"
   ]
  },
  {
   "cell_type": "code",
   "execution_count": 177,
   "metadata": {},
   "outputs": [
    {
     "name": "stdout",
     "output_type": "stream",
     "text": [
      "                           Logit Regression Results                           \n",
      "==============================================================================\n",
      "Dep. Variable:              Attrition   No. Observations:                 1470\n",
      "Model:                          Logit   Df Residuals:                     1425\n",
      "Method:                           MLE   Df Model:                           44\n",
      "Date:                Tue, 14 Apr 2020   Pseudo R-squ.:                  0.3272\n",
      "Time:                        02:44:50   Log-Likelihood:                -436.86\n",
      "converged:                      False   LL-Null:                       -649.29\n",
      "Covariance Type:            nonrobust   LLR p-value:                 8.937e-64\n",
      "=====================================================================================================\n",
      "                                        coef    std err          z      P>|z|      [0.025      0.975]\n",
      "-----------------------------------------------------------------------------------------------------\n",
      "const                                 0.5690      2.302      0.247      0.805      -3.942       5.080\n",
      "Age                                  -0.0286      0.013     -2.153      0.031      -0.055      -0.003\n",
      "DailyRate                            -0.0003      0.000     -1.379      0.168      -0.001       0.000\n",
      "DistanceFromHome                      0.0452      0.011      4.259      0.000       0.024       0.066\n",
      "Education                             0.0498      0.087      0.573      0.567      -0.121       0.220\n",
      "EnvironmentSatisfaction              -0.4224      0.081     -5.199      0.000      -0.582      -0.263\n",
      "HourlyRate                            0.0014      0.004      0.325      0.745      -0.007       0.010\n",
      "JobInvolvement                       -0.4464      0.121     -3.687      0.000      -0.684      -0.209\n",
      "JobLevel                             -0.1564      0.314     -0.498      0.619      -0.772       0.460\n",
      "JobSatisfaction                      -0.3804      0.080     -4.765      0.000      -0.537      -0.224\n",
      "MonthlyIncome                     -2.603e-05   8.12e-05     -0.321      0.748      -0.000       0.000\n",
      "MonthlyRate                        9.836e-06   1.23e-05      0.798      0.425   -1.43e-05     3.4e-05\n",
      "NumCompaniesWorked                    0.2043      0.038      5.382      0.000       0.130       0.279\n",
      "PercentSalaryHike                    -0.0808      0.040     -2.032      0.042      -0.159      -0.003\n",
      "PerformanceRating                     0.9131      0.396      2.306      0.021       0.137       1.689\n",
      "RelationshipSatisfaction             -0.2152      0.082     -2.636      0.008      -0.375      -0.055\n",
      "StockOptionLevel                     -0.2531      0.155     -1.635      0.102      -0.556       0.050\n",
      "TotalWorkingYears                    -0.0654      0.029     -2.263      0.024      -0.122      -0.009\n",
      "TrainingTimesLastYear                -0.1523      0.071     -2.138      0.032      -0.292      -0.013\n",
      "WorkLifeBalance                      -0.3443      0.122     -2.821      0.005      -0.584      -0.105\n",
      "YearsAtCompany                        0.1021      0.038      2.700      0.007       0.028       0.176\n",
      "YearsInCurrentRole                   -0.1416      0.044     -3.216      0.001      -0.228      -0.055\n",
      "YearsSinceLastPromotion               0.1537      0.041      3.743      0.000       0.073       0.234\n",
      "YearsWithCurrManager                 -0.1226      0.046     -2.674      0.007      -0.212      -0.033\n",
      "BusinessTravel_Travel_Frequently      1.2967      0.381      3.407      0.001       0.551       2.043\n",
      "BusinessTravel_Travel_Rarely          0.6266      0.347      1.806      0.071      -0.053       1.307\n",
      "Department_Research & Development    -0.2271      1.738     -0.131      0.896      -3.633       3.178\n",
      "Department_Sales                      0.4720      1.703      0.277      0.782      -2.866       3.810\n",
      "EducationField_Life Sciences         -0.2058      0.803     -0.256      0.798      -1.780       1.368\n",
      "EducationField_Marketing              0.2439      0.850      0.287      0.774      -1.422       1.909\n",
      "EducationField_Medical               -0.3298      0.802     -0.411      0.681      -1.902       1.242\n",
      "EducationField_Other                 -0.2228      0.863     -0.258      0.796      -1.914       1.468\n",
      "EducationField_Technical Degree       0.7782      0.822      0.947      0.344      -0.832       2.389\n",
      "Gender_Male                           0.5164      0.184      2.811      0.005       0.156       0.876\n",
      "JobRole_Human Resources               0.3864      1.814      0.213      0.831      -3.170       3.943\n",
      "JobRole_Laboratory Technician         0.9442      0.445      2.121      0.034       0.072       1.817\n",
      "JobRole_Manager                      -0.0450      0.931     -0.048      0.961      -1.869       1.779\n",
      "JobRole_Manufacturing Director       -0.2236      0.508     -0.441      0.659      -1.218       0.771\n",
      "JobRole_Research Director            -0.2467      0.839     -0.294      0.769      -1.890       1.397\n",
      "JobRole_Research Scientist           -0.1733      0.463     -0.374      0.708      -1.081       0.734\n",
      "JobRole_Sales Executive              -0.1791      1.093     -0.164      0.870      -2.322       1.964\n",
      "JobRole_Sales Representative          0.7074      1.145      0.618      0.537      -1.537       2.952\n",
      "MaritalStatus_Married                 0.2769      0.262      1.056      0.291      -0.237       0.791\n",
      "MaritalStatus_Single                  1.0338      0.339      3.053      0.002       0.370       1.697\n",
      "OverTime_Yes                          1.9549      0.191     10.256      0.000       1.581       2.329\n",
      "=====================================================================================================\n"
     ]
    }
   ],
   "source": [
    "#Summary of logistic regression\n",
    "from scipy import stats\n",
    "stats.chisqprob = lambda chisq, df: stats.chi2.sf(chisq, df)\n",
    "print(lg.summary())"
   ]
  },
  {
   "cell_type": "code",
   "execution_count": 179,
   "metadata": {},
   "outputs": [],
   "source": [
    "#Calculate Odds Ratio\n",
    "lgcoef = pd.DataFrame(lg.params, columns=['coef'])\n",
    "lgcoef.loc[:, \"Odds_ratio\"] = np.exp(lgcoef.coef)\n",
    "lgcoef['probability'] = lgcoef['Odds_ratio']/(1+lgcoef['Odds_ratio'])\n",
    "lgcoef['pval']=lg.pvalues\n",
    "pd.options.display.float_format = '{:.2f}'.format"
   ]
  },
  {
   "cell_type": "code",
   "execution_count": 180,
   "metadata": {},
   "outputs": [
    {
     "data": {
      "text/html": [
       "<div>\n",
       "<style scoped>\n",
       "    .dataframe tbody tr th:only-of-type {\n",
       "        vertical-align: middle;\n",
       "    }\n",
       "\n",
       "    .dataframe tbody tr th {\n",
       "        vertical-align: top;\n",
       "    }\n",
       "\n",
       "    .dataframe thead th {\n",
       "        text-align: right;\n",
       "    }\n",
       "</style>\n",
       "<table border=\"1\" class=\"dataframe\">\n",
       "  <thead>\n",
       "    <tr style=\"text-align: right;\">\n",
       "      <th></th>\n",
       "      <th>coef</th>\n",
       "      <th>Odds_ratio</th>\n",
       "      <th>probability</th>\n",
       "      <th>pval</th>\n",
       "    </tr>\n",
       "  </thead>\n",
       "  <tbody>\n",
       "    <tr>\n",
       "      <th>OverTime_Yes</th>\n",
       "      <td>1.95</td>\n",
       "      <td>7.06</td>\n",
       "      <td>0.88</td>\n",
       "      <td>0.00</td>\n",
       "    </tr>\n",
       "    <tr>\n",
       "      <th>BusinessTravel_Travel_Frequently</th>\n",
       "      <td>1.30</td>\n",
       "      <td>3.66</td>\n",
       "      <td>0.79</td>\n",
       "      <td>0.00</td>\n",
       "    </tr>\n",
       "    <tr>\n",
       "      <th>MaritalStatus_Single</th>\n",
       "      <td>1.03</td>\n",
       "      <td>2.81</td>\n",
       "      <td>0.74</td>\n",
       "      <td>0.00</td>\n",
       "    </tr>\n",
       "    <tr>\n",
       "      <th>JobRole_Laboratory Technician</th>\n",
       "      <td>0.94</td>\n",
       "      <td>2.57</td>\n",
       "      <td>0.72</td>\n",
       "      <td>0.03</td>\n",
       "    </tr>\n",
       "    <tr>\n",
       "      <th>PerformanceRating</th>\n",
       "      <td>0.91</td>\n",
       "      <td>2.49</td>\n",
       "      <td>0.71</td>\n",
       "      <td>0.02</td>\n",
       "    </tr>\n",
       "    <tr>\n",
       "      <th>BusinessTravel_Travel_Rarely</th>\n",
       "      <td>0.63</td>\n",
       "      <td>1.87</td>\n",
       "      <td>0.65</td>\n",
       "      <td>0.07</td>\n",
       "    </tr>\n",
       "    <tr>\n",
       "      <th>Gender_Male</th>\n",
       "      <td>0.52</td>\n",
       "      <td>1.68</td>\n",
       "      <td>0.63</td>\n",
       "      <td>0.00</td>\n",
       "    </tr>\n",
       "    <tr>\n",
       "      <th>NumCompaniesWorked</th>\n",
       "      <td>0.20</td>\n",
       "      <td>1.23</td>\n",
       "      <td>0.55</td>\n",
       "      <td>0.00</td>\n",
       "    </tr>\n",
       "    <tr>\n",
       "      <th>YearsSinceLastPromotion</th>\n",
       "      <td>0.15</td>\n",
       "      <td>1.17</td>\n",
       "      <td>0.54</td>\n",
       "      <td>0.00</td>\n",
       "    </tr>\n",
       "    <tr>\n",
       "      <th>YearsAtCompany</th>\n",
       "      <td>0.10</td>\n",
       "      <td>1.11</td>\n",
       "      <td>0.53</td>\n",
       "      <td>0.01</td>\n",
       "    </tr>\n",
       "    <tr>\n",
       "      <th>DistanceFromHome</th>\n",
       "      <td>0.05</td>\n",
       "      <td>1.05</td>\n",
       "      <td>0.51</td>\n",
       "      <td>0.00</td>\n",
       "    </tr>\n",
       "    <tr>\n",
       "      <th>Age</th>\n",
       "      <td>-0.03</td>\n",
       "      <td>0.97</td>\n",
       "      <td>0.49</td>\n",
       "      <td>0.03</td>\n",
       "    </tr>\n",
       "    <tr>\n",
       "      <th>TotalWorkingYears</th>\n",
       "      <td>-0.07</td>\n",
       "      <td>0.94</td>\n",
       "      <td>0.48</td>\n",
       "      <td>0.02</td>\n",
       "    </tr>\n",
       "    <tr>\n",
       "      <th>PercentSalaryHike</th>\n",
       "      <td>-0.08</td>\n",
       "      <td>0.92</td>\n",
       "      <td>0.48</td>\n",
       "      <td>0.04</td>\n",
       "    </tr>\n",
       "    <tr>\n",
       "      <th>YearsWithCurrManager</th>\n",
       "      <td>-0.12</td>\n",
       "      <td>0.88</td>\n",
       "      <td>0.47</td>\n",
       "      <td>0.01</td>\n",
       "    </tr>\n",
       "    <tr>\n",
       "      <th>YearsInCurrentRole</th>\n",
       "      <td>-0.14</td>\n",
       "      <td>0.87</td>\n",
       "      <td>0.46</td>\n",
       "      <td>0.00</td>\n",
       "    </tr>\n",
       "    <tr>\n",
       "      <th>TrainingTimesLastYear</th>\n",
       "      <td>-0.15</td>\n",
       "      <td>0.86</td>\n",
       "      <td>0.46</td>\n",
       "      <td>0.03</td>\n",
       "    </tr>\n",
       "    <tr>\n",
       "      <th>RelationshipSatisfaction</th>\n",
       "      <td>-0.22</td>\n",
       "      <td>0.81</td>\n",
       "      <td>0.45</td>\n",
       "      <td>0.01</td>\n",
       "    </tr>\n",
       "    <tr>\n",
       "      <th>WorkLifeBalance</th>\n",
       "      <td>-0.34</td>\n",
       "      <td>0.71</td>\n",
       "      <td>0.41</td>\n",
       "      <td>0.00</td>\n",
       "    </tr>\n",
       "    <tr>\n",
       "      <th>JobSatisfaction</th>\n",
       "      <td>-0.38</td>\n",
       "      <td>0.68</td>\n",
       "      <td>0.41</td>\n",
       "      <td>0.00</td>\n",
       "    </tr>\n",
       "    <tr>\n",
       "      <th>EnvironmentSatisfaction</th>\n",
       "      <td>-0.42</td>\n",
       "      <td>0.66</td>\n",
       "      <td>0.40</td>\n",
       "      <td>0.00</td>\n",
       "    </tr>\n",
       "    <tr>\n",
       "      <th>JobInvolvement</th>\n",
       "      <td>-0.45</td>\n",
       "      <td>0.64</td>\n",
       "      <td>0.39</td>\n",
       "      <td>0.00</td>\n",
       "    </tr>\n",
       "  </tbody>\n",
       "</table>\n",
       "</div>"
      ],
      "text/plain": [
       "                                  coef  Odds_ratio  probability  pval\n",
       "OverTime_Yes                      1.95        7.06         0.88  0.00\n",
       "BusinessTravel_Travel_Frequently  1.30        3.66         0.79  0.00\n",
       "MaritalStatus_Single              1.03        2.81         0.74  0.00\n",
       "JobRole_Laboratory Technician     0.94        2.57         0.72  0.03\n",
       "PerformanceRating                 0.91        2.49         0.71  0.02\n",
       "BusinessTravel_Travel_Rarely      0.63        1.87         0.65  0.07\n",
       "Gender_Male                       0.52        1.68         0.63  0.00\n",
       "NumCompaniesWorked                0.20        1.23         0.55  0.00\n",
       "YearsSinceLastPromotion           0.15        1.17         0.54  0.00\n",
       "YearsAtCompany                    0.10        1.11         0.53  0.01\n",
       "DistanceFromHome                  0.05        1.05         0.51  0.00\n",
       "Age                              -0.03        0.97         0.49  0.03\n",
       "TotalWorkingYears                -0.07        0.94         0.48  0.02\n",
       "PercentSalaryHike                -0.08        0.92         0.48  0.04\n",
       "YearsWithCurrManager             -0.12        0.88         0.47  0.01\n",
       "YearsInCurrentRole               -0.14        0.87         0.46  0.00\n",
       "TrainingTimesLastYear            -0.15        0.86         0.46  0.03\n",
       "RelationshipSatisfaction         -0.22        0.81         0.45  0.01\n",
       "WorkLifeBalance                  -0.34        0.71         0.41  0.00\n",
       "JobSatisfaction                  -0.38        0.68         0.41  0.00\n",
       "EnvironmentSatisfaction          -0.42        0.66         0.40  0.00\n",
       "JobInvolvement                   -0.45        0.64         0.39  0.00"
      ]
     },
     "execution_count": 180,
     "metadata": {},
     "output_type": "execute_result"
    }
   ],
   "source": [
    "lgcoef = lgcoef.sort_values(by=\"Odds_ratio\", ascending=False)\n",
    "pval_filter = lgcoef['pval']<=0.1\n",
    "lgcoef[pval_filter]"
   ]
  },
  {
   "cell_type": "code",
   "execution_count": 185,
   "metadata": {},
   "outputs": [],
   "source": [
    "# Training the data using train data and then predicting on test data\n",
    "from sklearn.linear_model import LogisticRegression\n",
    "logit = LogisticRegression()\n",
    "logit_model = logit.fit(X_train_res, y_train_res)"
   ]
  },
  {
   "cell_type": "code",
   "execution_count": 189,
   "metadata": {},
   "outputs": [],
   "source": [
    "# Make predictions for train and test set\n",
    "ypred_logit_train = logit_model.predict(X_train_res)\n",
    "ypred_logit_test = logit_model.predict(X_test)"
   ]
  },
  {
   "cell_type": "code",
   "execution_count": 190,
   "metadata": {},
   "outputs": [
    {
     "data": {
      "text/plain": [
       "array([[226,  22],\n",
       "       [ 28,  18]], dtype=int64)"
      ]
     },
     "execution_count": 190,
     "metadata": {},
     "output_type": "execute_result"
    }
   ],
   "source": [
    "from sklearn.metrics import accuracy_score, confusion_matrix, recall_score, precision_score,f1_score\n",
    "confusion_matrix(y_test, ypred_logit_test)"
   ]
  },
  {
   "cell_type": "code",
   "execution_count": 191,
   "metadata": {},
   "outputs": [
    {
     "name": "stdout",
     "output_type": "stream",
     "text": [
      "Accuracy:  0.8299319727891157 \n",
      "Recall:    0.391304347826087 \n",
      "Precision: 0.45 \n",
      "F1 Score:  0.4186046511627907 \n"
     ]
    }
   ],
   "source": [
    "# For test data\n",
    "print('Accuracy:  {} '.format(accuracy_score(y_test, ypred_logit_test)))\n",
    "print('Recall:    {} '.format(recall_score(y_test, ypred_logit_test)))\n",
    "print('Precision: {} '.format(precision_score(y_test, ypred_logit_test)))\n",
    "print('F1 Score:  {} '.format(f1_score(y_test, ypred_logit_test)))"
   ]
  },
  {
   "cell_type": "code",
   "execution_count": 192,
   "metadata": {},
   "outputs": [],
   "source": [
    "Classifier_Scores = {}\n",
    "Classifier_Scores.update({'Logistic Regression':[accuracy_score(y_test, ypred_logit_test),recall_score(y_test, ypred_logit_test),precision_score(y_test, ypred_logit_test),f1_score(y_test, ypred_logit_test)]})"
   ]
  },
  {
   "cell_type": "markdown",
   "metadata": {},
   "source": [
    "### Random Forest Classifier"
   ]
  },
  {
   "cell_type": "code",
   "execution_count": 81,
   "metadata": {},
   "outputs": [],
   "source": [
    "from sklearn.ensemble import RandomForestClassifier\n",
    "rf = RandomForestClassifier(n_estimators= 50,random_state = 420,verbose= 0)\n",
    "rf_model = rf.fit(X_train_res, y_train_res)"
   ]
  },
  {
   "cell_type": "code",
   "execution_count": 82,
   "metadata": {},
   "outputs": [],
   "source": [
    "#Make predictions for train and test set\n",
    "ypred_rf_train = rf_model.predict(X_train_res)\n",
    "ypred_rf_test = rf_model.predict(X_test)"
   ]
  },
  {
   "cell_type": "code",
   "execution_count": 95,
   "metadata": {},
   "outputs": [
    {
     "data": {
      "text/plain": [
       "array([[236,  12],\n",
       "       [ 31,  15]], dtype=int64)"
      ]
     },
     "execution_count": 95,
     "metadata": {},
     "output_type": "execute_result"
    }
   ],
   "source": [
    "confusion_matrix(y_test, ypred_rf_test)"
   ]
  },
  {
   "cell_type": "code",
   "execution_count": 98,
   "metadata": {},
   "outputs": [
    {
     "name": "stdout",
     "output_type": "stream",
     "text": [
      "Accuracy:  0.8537414965986394 \n",
      "Recall:    0.32608695652173914 \n",
      "Precision: 0.5555555555555556 \n",
      "F1 Score:  0.410958904109589 \n"
     ]
    }
   ],
   "source": [
    "# For test data\n",
    "print('Accuracy:  {} '.format(accuracy_score(y_test, ypred_rf_test)))\n",
    "print('Recall:    {} '.format(recall_score(y_test, ypred_rf_test)))\n",
    "print('Precision: {} '.format(precision_score(y_test, ypred_rf_test)))\n",
    "print('F1 Score:  {} '.format(f1_score(y_test, ypred_rf_test)))"
   ]
  },
  {
   "cell_type": "code",
   "execution_count": 194,
   "metadata": {},
   "outputs": [],
   "source": [
    "Classifier_Scores.update({'Random Forest':[accuracy_score(y_test, ypred_rf_test),recall_score(y_test, ypred_rf_test),precision_score(y_test, ypred_rf_test),f1_score(y_test, ypred_rf_test)]})"
   ]
  },
  {
   "cell_type": "code",
   "execution_count": 85,
   "metadata": {},
   "outputs": [],
   "source": [
    "feat_importance = rf_model.feature_importances_\n",
    "feature_cols = hr.columns\n",
    "feat_imp_dict = dict(zip(feature_cols, rf_model.feature_importances_))\n",
    "feat_imp = pd.DataFrame.from_dict(feat_imp_dict, orient='index')\n",
    "feat_imp.sort_values(by=0, ascending=False, inplace=True)"
   ]
  },
  {
   "cell_type": "code",
   "execution_count": 86,
   "metadata": {},
   "outputs": [
    {
     "data": {
      "text/html": [
       "<div>\n",
       "<style scoped>\n",
       "    .dataframe tbody tr th:only-of-type {\n",
       "        vertical-align: middle;\n",
       "    }\n",
       "\n",
       "    .dataframe tbody tr th {\n",
       "        vertical-align: top;\n",
       "    }\n",
       "\n",
       "    .dataframe thead th {\n",
       "        text-align: right;\n",
       "    }\n",
       "</style>\n",
       "<table border=\"1\" class=\"dataframe\">\n",
       "  <thead>\n",
       "    <tr style=\"text-align: right;\">\n",
       "      <th></th>\n",
       "      <th>0</th>\n",
       "    </tr>\n",
       "  </thead>\n",
       "  <tbody>\n",
       "    <tr>\n",
       "      <th>MaritalStatus</th>\n",
       "      <td>0.06</td>\n",
       "    </tr>\n",
       "    <tr>\n",
       "      <th>Gender</th>\n",
       "      <td>0.05</td>\n",
       "    </tr>\n",
       "    <tr>\n",
       "      <th>EnvironmentSatisfaction</th>\n",
       "      <td>0.05</td>\n",
       "    </tr>\n",
       "    <tr>\n",
       "      <th>EducationField</th>\n",
       "      <td>0.05</td>\n",
       "    </tr>\n",
       "    <tr>\n",
       "      <th>TrainingTimesLastYear</th>\n",
       "      <td>0.05</td>\n",
       "    </tr>\n",
       "  </tbody>\n",
       "</table>\n",
       "</div>"
      ],
      "text/plain": [
       "                           0\n",
       "MaritalStatus           0.06\n",
       "Gender                  0.05\n",
       "EnvironmentSatisfaction 0.05\n",
       "EducationField          0.05\n",
       "TrainingTimesLastYear   0.05"
      ]
     },
     "execution_count": 86,
     "metadata": {},
     "output_type": "execute_result"
    }
   ],
   "source": [
    "feat_imp.head()"
   ]
  },
  {
   "cell_type": "markdown",
   "metadata": {},
   "source": [
    "### Neural Network"
   ]
  },
  {
   "cell_type": "code",
   "execution_count": 102,
   "metadata": {},
   "outputs": [],
   "source": [
    "input_num_units=X_train_res.shape[1]\n",
    "hidden1_num_units=X_train_res.shape[1]+20\n",
    "hidden2_num_units=X_train_res.shape[1]+20\n",
    "output_num_units=1\n",
    "\n",
    "epochs=10\n",
    "batch_size=100 #after how many obs ,weights recalculated"
   ]
  },
  {
   "cell_type": "code",
   "execution_count": 103,
   "metadata": {},
   "outputs": [],
   "source": [
    "import tensorflow as tf\n",
    "from tensorflow import keras\n",
    "from tensorflow.keras import layers\n",
    "from keras.models import Sequential\n",
    "from keras.layers import Dense\n",
    "from keras.layers import Dropout\n",
    "from keras.wrappers.scikit_learn import KerasRegressor\n",
    "from keras.layers import Dropout\n",
    "from keras.constraints import maxnorm\n",
    "from keras.optimizers import SGD\n",
    "from keras import regularizers"
   ]
  },
  {
   "cell_type": "code",
   "execution_count": 197,
   "metadata": {},
   "outputs": [],
   "source": [
    "#sequential neural network\n",
    "\n",
    "seed=7\n",
    "np.random.seed(seed)\n",
    "model=Sequential([\n",
    "    #input layer\n",
    "    Dense(input_dim=input_num_units,\n",
    "          output_dim=hidden1_num_units,\n",
    "    activation='relu',\n",
    "    kernel_initializer='glorot_normal',\n",
    "    kernel_regularizer=regularizers.l1(0.0001)),\n",
    "    \n",
    "    Dropout(0.1),\n",
    "    #hidden layer\n",
    "    Dense(input_dim=hidden1_num_units,\n",
    "          output_dim=hidden2_num_units,\n",
    "    activation='relu',\n",
    "    kernel_initializer='glorot_normal',\n",
    "    kernel_regularizer=regularizers.l1(0.0001)),\n",
    "    \n",
    "    Dropout(0.1),\n",
    "    #hidden layer\n",
    "    Dense(input_dim=hidden2_num_units,\n",
    "          output_dim=output_num_units,\n",
    "    activation='sigmoid')\n",
    "    \n",
    "])\n",
    "\n",
    "model.compile(loss='binary_crossentropy',optimizer='Adam',metrics=['accuracy'])"
   ]
  },
  {
   "cell_type": "code",
   "execution_count": 226,
   "metadata": {},
   "outputs": [],
   "source": [
    "base_model=model.fit(X_train_res,y_train_res,nb_epoch=epochs,batch_size=batch_size,validation_data=(X_test,y_test),verbose=0)"
   ]
  },
  {
   "cell_type": "code",
   "execution_count": 106,
   "metadata": {},
   "outputs": [
    {
     "data": {
      "image/png": "[encoded data removed]",
      "text/plain": [
       "<Figure size 432x288 with 1 Axes>"
      ]
     },
     "metadata": {
      "needs_background": "light"
     },
     "output_type": "display_data"
    }
   ],
   "source": [
    "import matplotlib.pyplot as plt\n",
    "plt.plot(base_model.history['loss'],label='train')\n",
    "plt.plot(base_model.history['val_loss'],label='train')\n",
    "plt.legend()\n",
    "plt.show()"
   ]
  },
  {
   "cell_type": "code",
   "execution_count": 107,
   "metadata": {},
   "outputs": [],
   "source": [
    "prob_train = model.predict(X_train)\n",
    "prob_test = model.predict(X_test)"
   ]
  },
  {
   "cell_type": "code",
   "execution_count": 108,
   "metadata": {},
   "outputs": [
    {
     "data": {
      "text/plain": [
       "array([[0.29554465],\n",
       "       [0.00561476],\n",
       "       [0.2406128 ],\n",
       "       [0.00845259],\n",
       "       [0.04488438],\n",
       "       [0.14968932],\n",
       "       [0.05457109],\n",
       "       [0.00128943],\n",
       "       [0.37870356],\n",
       "       [0.01113677]], dtype=float32)"
      ]
     },
     "execution_count": 108,
     "metadata": {},
     "output_type": "execute_result"
    }
   ],
   "source": [
    "# Probablitiy of employee attrition\n",
    "prob_test[:10]"
   ]
  },
  {
   "cell_type": "code",
   "execution_count": 109,
   "metadata": {},
   "outputs": [
    {
     "data": {
      "text/plain": [
       "(array([152.,  50.,  26.,  18.,  13.,  10.,   4.,   4.,   8.,   9.]),\n",
       " array([6.3928962e-04, 9.6267685e-02, 1.9189608e-01, 2.8752446e-01,\n",
       "        3.8315287e-01, 4.7878128e-01, 5.7440966e-01, 6.7003804e-01,\n",
       "        7.6566648e-01, 8.6129487e-01, 9.5692325e-01], dtype=float32),\n",
       " <a list of 10 Patch objects>)"
      ]
     },
     "execution_count": 109,
     "metadata": {},
     "output_type": "execute_result"
    },
    {
     "data": {
      "image/png": "[encoded data removed]",
      "text/plain": [
       "<Figure size 432x288 with 1 Axes>"
      ]
     },
     "metadata": {
      "needs_background": "light"
     },
     "output_type": "display_data"
    }
   ],
   "source": [
    "plt.hist(prob_test)"
   ]
  },
  {
   "cell_type": "code",
   "execution_count": 110,
   "metadata": {},
   "outputs": [],
   "source": [
    "ypred_train = (prob_train>0.50).astype(np.int)\n",
    "ypred_test = (prob_test>0.50).astype(np.int)"
   ]
  },
  {
   "cell_type": "code",
   "execution_count": 113,
   "metadata": {},
   "outputs": [
    {
     "name": "stdout",
     "output_type": "stream",
     "text": [
      "Accuracy:  0.8418367346938775 \n",
      "Recall:    0.03664921465968586 \n",
      "Precision: 0.7777777777777778 \n",
      "F1 Score:  0.06999999999999999 \n"
     ]
    }
   ],
   "source": [
    "# For train data\n",
    "print('Accuracy:  {} '.format(accuracy_score(y_train, ypred_train)))\n",
    "print('Recall:    {} '.format(recall_score(y_train, ypred_train)))\n",
    "print('Precision: {} '.format(precision_score(y_train, ypred_train)))\n",
    "print('F1 Score:  {} '.format(f1_score(y_train, ypred_train)))"
   ]
  },
  {
   "cell_type": "code",
   "execution_count": 233,
   "metadata": {},
   "outputs": [
    {
     "data": {
      "text/plain": [
       "array([[236,  12],\n",
       "       [ 27,  19]], dtype=int64)"
      ]
     },
     "execution_count": 233,
     "metadata": {},
     "output_type": "execute_result"
    }
   ],
   "source": [
    "#For test data\n",
    "confusion_matrix(y_test, ypred_test)"
   ]
  },
  {
   "cell_type": "code",
   "execution_count": 232,
   "metadata": {},
   "outputs": [
    {
     "name": "stdout",
     "output_type": "stream",
     "text": [
      "Accuracy:  0.8673469387755102 \n",
      "Recall:    0.41304347826086957 \n",
      "Precision: 0.6129032258064516 \n",
      "F1 Score:  0.49350649350649356 \n"
     ]
    }
   ],
   "source": [
    "# For test data\n",
    "print('Accuracy:  {} '.format(accuracy_score(y_test, ypred_test)))\n",
    "print('Recall:    {} '.format(recall_score(y_test, ypred_test)))\n",
    "print('Precision: {} '.format(precision_score(y_test, ypred_test)))\n",
    "print('F1 Score:  {} '.format(f1_score(y_test, ypred_test)))"
   ]
  },
  {
   "cell_type": "code",
   "execution_count": 198,
   "metadata": {},
   "outputs": [],
   "source": [
    "Classifier_Scores.update({'Neural Network':[accuracy_score(y_test, ypred_test),recall_score(y_test, ypred_test),precision_score(y_test, ypred_test),f1_score(y_test, ypred_test)]})"
   ]
  },
  {
   "cell_type": "markdown",
   "metadata": {},
   "source": [
    "### Comparing Classifier Performances"
   ]
  },
  {
   "cell_type": "code",
   "execution_count": 212,
   "metadata": {},
   "outputs": [],
   "source": [
    "Classifier_Scores=pd.DataFrame(Classifier_Scores)\n",
    "Classifier_Scores.rename({0:'Accuracy',1:'Recall',2:'Precision',3:'F1-Score'},inplace=True)"
   ]
  },
  {
   "cell_type": "code",
   "execution_count": 222,
   "metadata": {},
   "outputs": [
    {
     "data": {
      "text/html": [
       "<div>\n",
       "<style scoped>\n",
       "    .dataframe tbody tr th:only-of-type {\n",
       "        vertical-align: middle;\n",
       "    }\n",
       "\n",
       "    .dataframe tbody tr th {\n",
       "        vertical-align: top;\n",
       "    }\n",
       "\n",
       "    .dataframe thead th {\n",
       "        text-align: right;\n",
       "    }\n",
       "</style>\n",
       "<table border=\"1\" class=\"dataframe\">\n",
       "  <thead>\n",
       "    <tr style=\"text-align: right;\">\n",
       "      <th></th>\n",
       "      <th>Logistic Regression</th>\n",
       "      <th>Random Forest</th>\n",
       "      <th>Neural Network</th>\n",
       "    </tr>\n",
       "  </thead>\n",
       "  <tbody>\n",
       "    <tr>\n",
       "      <th>Accuracy</th>\n",
       "      <td>0.83</td>\n",
       "      <td>0.85</td>\n",
       "      <td>0.87</td>\n",
       "    </tr>\n",
       "    <tr>\n",
       "      <th>Recall</th>\n",
       "      <td>0.39</td>\n",
       "      <td>0.33</td>\n",
       "      <td>0.41</td>\n",
       "    </tr>\n",
       "    <tr>\n",
       "      <th>Precision</th>\n",
       "      <td>0.45</td>\n",
       "      <td>0.56</td>\n",
       "      <td>0.61</td>\n",
       "    </tr>\n",
       "    <tr>\n",
       "      <th>F1-Score</th>\n",
       "      <td>0.42</td>\n",
       "      <td>0.41</td>\n",
       "      <td>0.49</td>\n",
       "    </tr>\n",
       "  </tbody>\n",
       "</table>\n",
       "</div>"
      ],
      "text/plain": [
       "           Logistic Regression  Random Forest  Neural Network\n",
       "Accuracy                  0.83           0.85            0.87\n",
       "Recall                    0.39           0.33            0.41\n",
       "Precision                 0.45           0.56            0.61\n",
       "F1-Score                  0.42           0.41            0.49"
      ]
     },
     "execution_count": 222,
     "metadata": {},
     "output_type": "execute_result"
    }
   ],
   "source": [
    "Classifier_Scores"
   ]
  },
  {
   "cell_type": "code",
   "execution_count": 234,
   "metadata": {},
   "outputs": [
    {
     "data": {
      "text/plain": [
       "(array([0, 1, 2, 3]), <a list of 4 Text xticklabel objects>)"
      ]
     },
     "execution_count": 234,
     "metadata": {},
     "output_type": "execute_result"
    },
    {
     "data": {
      "image/png": "[encoded data removed]",
      "text/plain": [
       "<Figure size 1080x576 with 1 Axes>"
      ]
     },
     "metadata": {
      "needs_background": "light"
     },
     "output_type": "display_data"
    }
   ],
   "source": [
    "Classifier_Scores.plot.bar(figsize=(15,8))\n",
    "plt.xticks(rotation=0)"
   ]
  }
 ],
 "metadata": {
  "kernelspec": {
   "display_name": "Python 3",
   "language": "python",
   "name": "python3"
  },
  "language_info": {
   "codemirror_mode": {
    "name": "ipython",
    "version": 3
   },
   "file_extension": ".py",
   "mimetype": "text/x-python",
   "name": "python",
   "nbconvert_exporter": "python",
   "pygments_lexer": "ipython3",
   "version": "3.7.3"
  }
 },
 "nbformat": 4,
 "nbformat_minor": 4
}
