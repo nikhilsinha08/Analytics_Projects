{
 "cells": [
  {
   "cell_type": "code",
   "execution_count": 1,
   "metadata": {},
   "outputs": [
    {
     "name": "stderr",
     "output_type": "stream",
     "text": [
      "Using TensorFlow backend.\n"
     ]
    }
   ],
   "source": [
    "#Importing Required Libraries\n",
    "import pandas as pd \n",
    "import numpy as np\n",
    "import nltk\n",
    "import re\n",
    "import keras\n",
    "import pandas, xgboost, numpy, string\n",
    "import seaborn as sns\n",
    "\n",
    "from vaderSentiment.vaderSentiment import SentimentIntensityAnalyzer\n",
    "from nltk.sentiment.vader import SentimentIntensityAnalyzer\n",
    "from sklearn.decomposition import NMF, LatentDirichletAllocation, TruncatedSVD\n",
    "from collections import defaultdict\n",
    "from nltk.corpus import stopwords\n",
    "from nltk.stem.porter import PorterStemmer\n",
    "from nltk.stem.wordnet import WordNetLemmatizer\n",
    "from sklearn.model_selection import GridSearchCV\n",
    "from sklearn.decomposition import LatentDirichletAllocation, TruncatedSVD\n",
    "from pprint import pprint\n",
    "from sklearn import model_selection, preprocessing, linear_model, naive_bayes, metrics, svm\n",
    "from sklearn import decomposition, ensemble\n",
    "from sklearn.ensemble import RandomForestClassifier\n",
    "from sklearn.naive_bayes import GaussianNB\n",
    "from sklearn.metrics import confusion_matrix\n",
    "from sklearn.metrics import accuracy_score, recall_score\n",
    "from sklearn.linear_model import LogisticRegression\n",
    "from sklearn.model_selection import train_test_split\n",
    "from sklearn.feature_extraction.text import CountVectorizer\n",
    "from sklearn.feature_extraction.text import TfidfVectorizer\n",
    "from wordcloud import WordCloud, STOPWORDS, ImageColorGenerator\n",
    "from pandas import DataFrame\n",
    "\n",
    "# Plotting tools\n",
    "#import pyLDAvis\n",
    "#import pyLDAvis.sklearn\n",
    "import matplotlib.pyplot as plt\n",
    "from matplotlib.pyplot import figure\n",
    "%matplotlib inline"
   ]
  },
  {
   "cell_type": "code",
   "execution_count": 2,
   "metadata": {},
   "outputs": [
    {
     "data": {
      "text/plain": [
       "(107018, 3)"
      ]
     },
     "execution_count": 2,
     "metadata": {},
     "output_type": "execute_result"
    }
   ],
   "source": [
    "#Importing the dataset\n",
    "df=pd.read_csv('reviews.csv')\n",
    "df.head(5)\n",
    "df.shape"
   ]
  },
  {
   "cell_type": "markdown",
   "metadata": {},
   "source": [
    "# Text Pre-Processing"
   ]
  },
  {
   "cell_type": "code",
   "execution_count": 3,
   "metadata": {},
   "outputs": [
    {
     "data": {
      "text/html": [
       "<div>\n",
       "<style scoped>\n",
       "    .dataframe tbody tr th:only-of-type {\n",
       "        vertical-align: middle;\n",
       "    }\n",
       "\n",
       "    .dataframe tbody tr th {\n",
       "        vertical-align: top;\n",
       "    }\n",
       "\n",
       "    .dataframe thead th {\n",
       "        text-align: right;\n",
       "    }\n",
       "</style>\n",
       "<table border=\"1\" class=\"dataframe\">\n",
       "  <thead>\n",
       "    <tr style=\"text-align: right;\">\n",
       "      <th></th>\n",
       "      <th>index</th>\n",
       "      <th>Id</th>\n",
       "      <th>Review</th>\n",
       "      <th>Label</th>\n",
       "    </tr>\n",
       "  </thead>\n",
       "  <tbody>\n",
       "    <tr>\n",
       "      <th>0</th>\n",
       "      <td>0</td>\n",
       "      <td>0</td>\n",
       "      <td>good and interesting</td>\n",
       "      <td>5</td>\n",
       "    </tr>\n",
       "    <tr>\n",
       "      <th>1</th>\n",
       "      <td>1</td>\n",
       "      <td>1</td>\n",
       "      <td>This class is very helpful to me. Currently, I...</td>\n",
       "      <td>5</td>\n",
       "    </tr>\n",
       "    <tr>\n",
       "      <th>2</th>\n",
       "      <td>2</td>\n",
       "      <td>2</td>\n",
       "      <td>like!Prof and TAs are helpful and the discussi...</td>\n",
       "      <td>5</td>\n",
       "    </tr>\n",
       "    <tr>\n",
       "      <th>3</th>\n",
       "      <td>3</td>\n",
       "      <td>3</td>\n",
       "      <td>Easy to follow and includes a lot basic and im...</td>\n",
       "      <td>5</td>\n",
       "    </tr>\n",
       "    <tr>\n",
       "      <th>4</th>\n",
       "      <td>4</td>\n",
       "      <td>4</td>\n",
       "      <td>Really nice teacher!I could got the point eazl...</td>\n",
       "      <td>4</td>\n",
       "    </tr>\n",
       "  </tbody>\n",
       "</table>\n",
       "</div>"
      ],
      "text/plain": [
       "   index  Id                                             Review  Label\n",
       "0      0   0                               good and interesting      5\n",
       "1      1   1  This class is very helpful to me. Currently, I...      5\n",
       "2      2   2  like!Prof and TAs are helpful and the discussi...      5\n",
       "3      3   3  Easy to follow and includes a lot basic and im...      5\n",
       "4      4   4  Really nice teacher!I could got the point eazl...      4"
      ]
     },
     "execution_count": 3,
     "metadata": {},
     "output_type": "execute_result"
    }
   ],
   "source": [
    "df.reset_index(inplace=True)\n",
    "df.head(5)"
   ]
  },
  {
   "cell_type": "code",
   "execution_count": 48,
   "metadata": {},
   "outputs": [],
   "source": [
    "stop_words = set(stopwords.words(\"english\"))"
   ]
  },
  {
   "cell_type": "code",
   "execution_count": 5,
   "metadata": {},
   "outputs": [],
   "source": [
    "corpus = []\n",
    "for i in range(0, df.shape[0]):\n",
    "    #Remove punctuations\n",
    "    text = re.sub('[^a-zA-Z]', ' ', df['Review'][i])\n",
    "    \n",
    "    #Convert to lowercase\n",
    "    text = text.lower()\n",
    "    ##Convert to list from string\n",
    "    text = text.split()\n",
    "    ##Lemmatizing\n",
    "    lm = WordNetLemmatizer() \n",
    "       \n",
    "    \n",
    "    text = [lm.lemmatize(word) for word in text if not word in stop_words] \n",
    "    text = \" \".join(text)\n",
    "    corpus.append(text)"
   ]
  },
  {
   "cell_type": "markdown",
   "metadata": {},
   "source": [
    "# Sentiment Analysis"
   ]
  },
  {
   "cell_type": "code",
   "execution_count": 49,
   "metadata": {},
   "outputs": [
    {
     "data": {
      "text/html": [
       "<div>\n",
       "<style scoped>\n",
       "    .dataframe tbody tr th:only-of-type {\n",
       "        vertical-align: middle;\n",
       "    }\n",
       "\n",
       "    .dataframe tbody tr th {\n",
       "        vertical-align: top;\n",
       "    }\n",
       "\n",
       "    .dataframe thead th {\n",
       "        text-align: right;\n",
       "    }\n",
       "</style>\n",
       "<table border=\"1\" class=\"dataframe\">\n",
       "  <thead>\n",
       "    <tr style=\"text-align: right;\">\n",
       "      <th></th>\n",
       "      <th>0</th>\n",
       "    </tr>\n",
       "  </thead>\n",
       "  <tbody>\n",
       "    <tr>\n",
       "      <th>0</th>\n",
       "      <td>good interesting</td>\n",
       "    </tr>\n",
       "    <tr>\n",
       "      <th>1</th>\n",
       "      <td>class helpful currently still learning class m...</td>\n",
       "    </tr>\n",
       "    <tr>\n",
       "      <th>2</th>\n",
       "      <td>like prof ta helpful discussion among student ...</td>\n",
       "    </tr>\n",
       "    <tr>\n",
       "      <th>3</th>\n",
       "      <td>easy follow includes lot basic important techn...</td>\n",
       "    </tr>\n",
       "    <tr>\n",
       "      <th>4</th>\n",
       "      <td>really nice teacher could got point eazliy v</td>\n",
       "    </tr>\n",
       "  </tbody>\n",
       "</table>\n",
       "</div>"
      ],
      "text/plain": [
       "                                                   0\n",
       "0                                   good interesting\n",
       "1  class helpful currently still learning class m...\n",
       "2  like prof ta helpful discussion among student ...\n",
       "3  easy follow includes lot basic important techn...\n",
       "4       really nice teacher could got point eazliy v"
      ]
     },
     "execution_count": 49,
     "metadata": {},
     "output_type": "execute_result"
    }
   ],
   "source": [
    "corpus1=pd.DataFrame(corpus)\n",
    "corpus1.head()"
   ]
  },
  {
   "cell_type": "code",
   "execution_count": 7,
   "metadata": {},
   "outputs": [
    {
     "data": {
      "text/html": [
       "<div>\n",
       "<style scoped>\n",
       "    .dataframe tbody tr th:only-of-type {\n",
       "        vertical-align: middle;\n",
       "    }\n",
       "\n",
       "    .dataframe tbody tr th {\n",
       "        vertical-align: top;\n",
       "    }\n",
       "\n",
       "    .dataframe thead th {\n",
       "        text-align: right;\n",
       "    }\n",
       "</style>\n",
       "<table border=\"1\" class=\"dataframe\">\n",
       "  <thead>\n",
       "    <tr style=\"text-align: right;\">\n",
       "      <th></th>\n",
       "      <th>Review</th>\n",
       "    </tr>\n",
       "  </thead>\n",
       "  <tbody>\n",
       "    <tr>\n",
       "      <th>0</th>\n",
       "      <td>good interesting</td>\n",
       "    </tr>\n",
       "    <tr>\n",
       "      <th>1</th>\n",
       "      <td>class helpful currently still learning class m...</td>\n",
       "    </tr>\n",
       "    <tr>\n",
       "      <th>2</th>\n",
       "      <td>like prof ta helpful discussion among student ...</td>\n",
       "    </tr>\n",
       "    <tr>\n",
       "      <th>3</th>\n",
       "      <td>easy follow includes lot basic important techn...</td>\n",
       "    </tr>\n",
       "    <tr>\n",
       "      <th>4</th>\n",
       "      <td>really nice teacher could got point eazliy v</td>\n",
       "    </tr>\n",
       "  </tbody>\n",
       "</table>\n",
       "</div>"
      ],
      "text/plain": [
       "                                              Review\n",
       "0                                   good interesting\n",
       "1  class helpful currently still learning class m...\n",
       "2  like prof ta helpful discussion among student ...\n",
       "3  easy follow includes lot basic important techn...\n",
       "4       really nice teacher could got point eazliy v"
      ]
     },
     "execution_count": 7,
     "metadata": {},
     "output_type": "execute_result"
    }
   ],
   "source": [
    "text1=corpus1\n",
    "text1.columns=['Review']\n",
    "text1.head()"
   ]
  },
  {
   "cell_type": "code",
   "execution_count": 8,
   "metadata": {},
   "outputs": [],
   "source": [
    "analyser=SentimentIntensityAnalyzer()"
   ]
  },
  {
   "cell_type": "code",
   "execution_count": 9,
   "metadata": {},
   "outputs": [],
   "source": [
    "def score_speaker(speaker_df):\n",
    "    df_dict = {}\n",
    "    for i,response in speaker_df.iterrows():\n",
    "        scorer = SentimentIntensityAnalyzer()\n",
    "        scores = scorer.polarity_scores(response.Review)\n",
    "        df_dict[i] = scores\n",
    "    df = pd.DataFrame.from_dict(df_dict)\n",
    "    df = df.T\n",
    "    return df"
   ]
  },
  {
   "cell_type": "code",
   "execution_count": 10,
   "metadata": {},
   "outputs": [
    {
     "data": {
      "text/html": [
       "<div>\n",
       "<style scoped>\n",
       "    .dataframe tbody tr th:only-of-type {\n",
       "        vertical-align: middle;\n",
       "    }\n",
       "\n",
       "    .dataframe tbody tr th {\n",
       "        vertical-align: top;\n",
       "    }\n",
       "\n",
       "    .dataframe thead th {\n",
       "        text-align: right;\n",
       "    }\n",
       "</style>\n",
       "<table border=\"1\" class=\"dataframe\">\n",
       "  <thead>\n",
       "    <tr style=\"text-align: right;\">\n",
       "      <th></th>\n",
       "      <th>compound</th>\n",
       "      <th>neg</th>\n",
       "      <th>neu</th>\n",
       "      <th>pos</th>\n",
       "    </tr>\n",
       "  </thead>\n",
       "  <tbody>\n",
       "    <tr>\n",
       "      <th>0</th>\n",
       "      <td>0.6808</td>\n",
       "      <td>0.0</td>\n",
       "      <td>0.000</td>\n",
       "      <td>1.000</td>\n",
       "    </tr>\n",
       "    <tr>\n",
       "      <th>1</th>\n",
       "      <td>0.4215</td>\n",
       "      <td>0.0</td>\n",
       "      <td>0.781</td>\n",
       "      <td>0.219</td>\n",
       "    </tr>\n",
       "    <tr>\n",
       "      <th>2</th>\n",
       "      <td>0.8995</td>\n",
       "      <td>0.0</td>\n",
       "      <td>0.401</td>\n",
       "      <td>0.599</td>\n",
       "    </tr>\n",
       "    <tr>\n",
       "      <th>3</th>\n",
       "      <td>0.5719</td>\n",
       "      <td>0.0</td>\n",
       "      <td>0.598</td>\n",
       "      <td>0.402</td>\n",
       "    </tr>\n",
       "    <tr>\n",
       "      <th>4</th>\n",
       "      <td>0.4754</td>\n",
       "      <td>0.0</td>\n",
       "      <td>0.660</td>\n",
       "      <td>0.340</td>\n",
       "    </tr>\n",
       "  </tbody>\n",
       "</table>\n",
       "</div>"
      ],
      "text/plain": [
       "   compound  neg    neu    pos\n",
       "0    0.6808  0.0  0.000  1.000\n",
       "1    0.4215  0.0  0.781  0.219\n",
       "2    0.8995  0.0  0.401  0.599\n",
       "3    0.5719  0.0  0.598  0.402\n",
       "4    0.4754  0.0  0.660  0.340"
      ]
     },
     "execution_count": 10,
     "metadata": {},
     "output_type": "execute_result"
    }
   ],
   "source": [
    "df_score = score_speaker(text1)\n",
    "df_score.head()"
   ]
  },
  {
   "cell_type": "code",
   "execution_count": 11,
   "metadata": {},
   "outputs": [
    {
     "data": {
      "text/html": [
       "<div>\n",
       "<style scoped>\n",
       "    .dataframe tbody tr th:only-of-type {\n",
       "        vertical-align: middle;\n",
       "    }\n",
       "\n",
       "    .dataframe tbody tr th {\n",
       "        vertical-align: top;\n",
       "    }\n",
       "\n",
       "    .dataframe thead th {\n",
       "        text-align: right;\n",
       "    }\n",
       "</style>\n",
       "<table border=\"1\" class=\"dataframe\">\n",
       "  <thead>\n",
       "    <tr style=\"text-align: right;\">\n",
       "      <th></th>\n",
       "      <th>compound</th>\n",
       "      <th>neg</th>\n",
       "      <th>neu</th>\n",
       "      <th>pos</th>\n",
       "      <th>sent</th>\n",
       "    </tr>\n",
       "  </thead>\n",
       "  <tbody>\n",
       "    <tr>\n",
       "      <th>0</th>\n",
       "      <td>0.6808</td>\n",
       "      <td>0.0</td>\n",
       "      <td>0.000</td>\n",
       "      <td>1.000</td>\n",
       "      <td>good interesting</td>\n",
       "    </tr>\n",
       "    <tr>\n",
       "      <th>1</th>\n",
       "      <td>0.4215</td>\n",
       "      <td>0.0</td>\n",
       "      <td>0.781</td>\n",
       "      <td>0.219</td>\n",
       "      <td>class helpful currently still learning class m...</td>\n",
       "    </tr>\n",
       "    <tr>\n",
       "      <th>2</th>\n",
       "      <td>0.8995</td>\n",
       "      <td>0.0</td>\n",
       "      <td>0.401</td>\n",
       "      <td>0.599</td>\n",
       "      <td>like prof ta helpful discussion among student ...</td>\n",
       "    </tr>\n",
       "    <tr>\n",
       "      <th>3</th>\n",
       "      <td>0.5719</td>\n",
       "      <td>0.0</td>\n",
       "      <td>0.598</td>\n",
       "      <td>0.402</td>\n",
       "      <td>easy follow includes lot basic important techn...</td>\n",
       "    </tr>\n",
       "    <tr>\n",
       "      <th>4</th>\n",
       "      <td>0.4754</td>\n",
       "      <td>0.0</td>\n",
       "      <td>0.660</td>\n",
       "      <td>0.340</td>\n",
       "      <td>really nice teacher could got point eazliy v</td>\n",
       "    </tr>\n",
       "  </tbody>\n",
       "</table>\n",
       "</div>"
      ],
      "text/plain": [
       "   compound  neg    neu    pos  \\\n",
       "0    0.6808  0.0  0.000  1.000   \n",
       "1    0.4215  0.0  0.781  0.219   \n",
       "2    0.8995  0.0  0.401  0.599   \n",
       "3    0.5719  0.0  0.598  0.402   \n",
       "4    0.4754  0.0  0.660  0.340   \n",
       "\n",
       "                                                sent  \n",
       "0                                   good interesting  \n",
       "1  class helpful currently still learning class m...  \n",
       "2  like prof ta helpful discussion among student ...  \n",
       "3  easy follow includes lot basic important techn...  \n",
       "4       really nice teacher could got point eazliy v  "
      ]
     },
     "execution_count": 11,
     "metadata": {},
     "output_type": "execute_result"
    }
   ],
   "source": [
    "df_score['sent']=text1['Review']\n",
    "df_score.head()"
   ]
  },
  {
   "cell_type": "code",
   "execution_count": 12,
   "metadata": {},
   "outputs": [
    {
     "data": {
      "text/html": [
       "<div>\n",
       "<style scoped>\n",
       "    .dataframe tbody tr th:only-of-type {\n",
       "        vertical-align: middle;\n",
       "    }\n",
       "\n",
       "    .dataframe tbody tr th {\n",
       "        vertical-align: top;\n",
       "    }\n",
       "\n",
       "    .dataframe thead th {\n",
       "        text-align: right;\n",
       "    }\n",
       "</style>\n",
       "<table border=\"1\" class=\"dataframe\">\n",
       "  <thead>\n",
       "    <tr style=\"text-align: right;\">\n",
       "      <th></th>\n",
       "      <th>sent</th>\n",
       "      <th>compound</th>\n",
       "      <th>neg</th>\n",
       "      <th>neu</th>\n",
       "      <th>pos</th>\n",
       "    </tr>\n",
       "  </thead>\n",
       "  <tbody>\n",
       "    <tr>\n",
       "      <th>0</th>\n",
       "      <td></td>\n",
       "      <td>0.0000</td>\n",
       "      <td>0.000</td>\n",
       "      <td>0.000</td>\n",
       "      <td>0.000</td>\n",
       "    </tr>\n",
       "    <tr>\n",
       "      <th>1</th>\n",
       "      <td>ability self grade huge advantage moving pace ...</td>\n",
       "      <td>0.8658</td>\n",
       "      <td>0.000</td>\n",
       "      <td>0.359</td>\n",
       "      <td>0.641</td>\n",
       "    </tr>\n",
       "    <tr>\n",
       "      <th>2</th>\n",
       "      <td>able address necessary area relevant evidence ...</td>\n",
       "      <td>0.7506</td>\n",
       "      <td>0.000</td>\n",
       "      <td>0.686</td>\n",
       "      <td>0.314</td>\n",
       "    </tr>\n",
       "    <tr>\n",
       "      <th>3</th>\n",
       "      <td>able apply team company worked</td>\n",
       "      <td>0.0000</td>\n",
       "      <td>0.000</td>\n",
       "      <td>1.000</td>\n",
       "      <td>0.000</td>\n",
       "    </tr>\n",
       "    <tr>\n",
       "      <th>4</th>\n",
       "      <td>able audit class longer able take quiz test re...</td>\n",
       "      <td>0.0772</td>\n",
       "      <td>0.112</td>\n",
       "      <td>0.761</td>\n",
       "      <td>0.127</td>\n",
       "    </tr>\n",
       "  </tbody>\n",
       "</table>\n",
       "</div>"
      ],
      "text/plain": [
       "                                                sent  compound    neg    neu  \\\n",
       "0                                                       0.0000  0.000  0.000   \n",
       "1  ability self grade huge advantage moving pace ...    0.8658  0.000  0.359   \n",
       "2  able address necessary area relevant evidence ...    0.7506  0.000  0.686   \n",
       "3                     able apply team company worked    0.0000  0.000  1.000   \n",
       "4  able audit class longer able take quiz test re...    0.0772  0.112  0.761   \n",
       "\n",
       "     pos  \n",
       "0  0.000  \n",
       "1  0.641  \n",
       "2  0.314  \n",
       "3  0.000  \n",
       "4  0.127  "
      ]
     },
     "execution_count": 12,
     "metadata": {},
     "output_type": "execute_result"
    }
   ],
   "source": [
    "df_group=df_score.groupby('sent').mean()\n",
    "df_group.reset_index(inplace=True)\n",
    "df_group.head()"
   ]
  },
  {
   "cell_type": "code",
   "execution_count": 13,
   "metadata": {},
   "outputs": [
    {
     "data": {
      "text/plain": [
       "Positive    62364\n",
       "Neutral     23506\n",
       "Negative     8602\n",
       "Name: Type, dtype: int64"
      ]
     },
     "execution_count": 13,
     "metadata": {},
     "output_type": "execute_result"
    }
   ],
   "source": [
    "bins=[-1,0,0.6,1]\n",
    "labels=['Negative','Neutral','Positive']\n",
    "df_group['Type']=pd.cut(df_group['compound'],bins=bins,labels=labels)\n",
    "df_group['Type'].value_counts()"
   ]
  },
  {
   "cell_type": "code",
   "execution_count": 14,
   "metadata": {},
   "outputs": [
    {
     "data": {
      "text/html": [
       "<div>\n",
       "<style scoped>\n",
       "    .dataframe tbody tr th:only-of-type {\n",
       "        vertical-align: middle;\n",
       "    }\n",
       "\n",
       "    .dataframe tbody tr th {\n",
       "        vertical-align: top;\n",
       "    }\n",
       "\n",
       "    .dataframe thead th {\n",
       "        text-align: right;\n",
       "    }\n",
       "</style>\n",
       "<table border=\"1\" class=\"dataframe\">\n",
       "  <thead>\n",
       "    <tr style=\"text-align: right;\">\n",
       "      <th></th>\n",
       "      <th>sent</th>\n",
       "      <th>compound</th>\n",
       "      <th>neg</th>\n",
       "      <th>neu</th>\n",
       "      <th>pos</th>\n",
       "      <th>Type</th>\n",
       "    </tr>\n",
       "  </thead>\n",
       "  <tbody>\n",
       "    <tr>\n",
       "      <th>0</th>\n",
       "      <td></td>\n",
       "      <td>0.0000</td>\n",
       "      <td>0.000</td>\n",
       "      <td>0.000</td>\n",
       "      <td>0.000</td>\n",
       "      <td>Negative</td>\n",
       "    </tr>\n",
       "    <tr>\n",
       "      <th>1</th>\n",
       "      <td>ability self grade huge advantage moving pace ...</td>\n",
       "      <td>0.8658</td>\n",
       "      <td>0.000</td>\n",
       "      <td>0.359</td>\n",
       "      <td>0.641</td>\n",
       "      <td>Positive</td>\n",
       "    </tr>\n",
       "    <tr>\n",
       "      <th>2</th>\n",
       "      <td>able address necessary area relevant evidence ...</td>\n",
       "      <td>0.7506</td>\n",
       "      <td>0.000</td>\n",
       "      <td>0.686</td>\n",
       "      <td>0.314</td>\n",
       "      <td>Positive</td>\n",
       "    </tr>\n",
       "    <tr>\n",
       "      <th>3</th>\n",
       "      <td>able apply team company worked</td>\n",
       "      <td>0.0000</td>\n",
       "      <td>0.000</td>\n",
       "      <td>1.000</td>\n",
       "      <td>0.000</td>\n",
       "      <td>Negative</td>\n",
       "    </tr>\n",
       "    <tr>\n",
       "      <th>4</th>\n",
       "      <td>able audit class longer able take quiz test re...</td>\n",
       "      <td>0.0772</td>\n",
       "      <td>0.112</td>\n",
       "      <td>0.761</td>\n",
       "      <td>0.127</td>\n",
       "      <td>Neutral</td>\n",
       "    </tr>\n",
       "  </tbody>\n",
       "</table>\n",
       "</div>"
      ],
      "text/plain": [
       "                                                sent  compound    neg    neu  \\\n",
       "0                                                       0.0000  0.000  0.000   \n",
       "1  ability self grade huge advantage moving pace ...    0.8658  0.000  0.359   \n",
       "2  able address necessary area relevant evidence ...    0.7506  0.000  0.686   \n",
       "3                     able apply team company worked    0.0000  0.000  1.000   \n",
       "4  able audit class longer able take quiz test re...    0.0772  0.112  0.761   \n",
       "\n",
       "     pos      Type  \n",
       "0  0.000  Negative  \n",
       "1  0.641  Positive  \n",
       "2  0.314  Positive  \n",
       "3  0.000  Negative  \n",
       "4  0.127   Neutral  "
      ]
     },
     "execution_count": 14,
     "metadata": {},
     "output_type": "execute_result"
    }
   ],
   "source": [
    "df_group.head()"
   ]
  },
  {
   "cell_type": "markdown",
   "metadata": {},
   "source": [
    "# Word Visualization"
   ]
  },
  {
   "cell_type": "code",
   "execution_count": 32,
   "metadata": {},
   "outputs": [],
   "source": [
    "def get_top_n_words(corpus, n=None):\n",
    "    vec = CountVectorizer(stop_words=stop_words,ngram_range=(2,2),max_df=0.7,min_df=0.001).fit(corpus)\n",
    "    bag_of_words = vec.transform(corpus)\n",
    "    sum_words = bag_of_words.sum(axis=0) \n",
    "    words_freq = [(word, sum_words[0, idx]) for word, idx in vec.vocabulary_.items()]\n",
    "    words_freq =sorted(words_freq, key = lambda x: x[1], reverse=True)\n",
    "    return words_freq[:n]\n"
   ]
  },
  {
   "cell_type": "code",
   "execution_count": 33,
   "metadata": {},
   "outputs": [],
   "source": [
    "top_words = get_top_n_words(corpus, n=20)\n",
    "top_df = pd.DataFrame(top_words)\n",
    "top_df.columns=[\"Word\", \"Freq\"]\n"
   ]
  },
  {
   "cell_type": "code",
   "execution_count": 34,
   "metadata": {},
   "outputs": [
    {
     "data": {
      "text/plain": [
       "<matplotlib.axes._subplots.AxesSubplot at 0x197e70bc288>"
      ]
     },
     "execution_count": 34,
     "metadata": {},
     "output_type": "execute_result"
    },
    {
     "data": {
      "image/png": "[encoded data removed]",
      "text/plain": [
       "<Figure size 2160x576 with 1 Axes>"
      ]
     },
     "metadata": {},
     "output_type": "display_data"
    }
   ],
   "source": [
    "sns.set(rc={'figure.figsize':(30,8)})\n",
    "sns.barplot(x=\"Word\", y=\"Freq\", data=top_df)"
   ]
  },
  {
   "cell_type": "code",
   "execution_count": 105,
   "metadata": {},
   "outputs": [
    {
     "name": "stdout",
     "output_type": "stream",
     "text": [
      "               Bi-gram  Freq\n",
      "0         great course  7092\n",
      "1          good course  3897\n",
      "2     excellent course  3678\n",
      "3     machine learning  3458\n",
      "4          learned lot  2089\n",
      "5        course really  1946\n",
      "6      easy understand  1854\n",
      "7     recommend course  1756\n",
      "8           thank much  1727\n",
      "9         course great  1686\n",
      "10         best course  1478\n",
      "11         course well  1377\n",
      "12      really enjoyed  1363\n",
      "13         course good  1359\n",
      "14    highly recommend  1338\n",
      "15      enjoyed course  1335\n",
      "16         easy follow  1274\n",
      "17  interesting course  1252\n",
      "18         really good  1207\n",
      "19            dr chuck  1167\n"
     ]
    }
   ],
   "source": [
    "sent1=df_group['sent']\n",
    "def get_top_n2_words(sent1, n=None):\n",
    "    vec1 = CountVectorizer(ngram_range=(2,2), max_features=2000).fit(sent1)\n",
    "    bag_of_words = vec1.transform(sent1)\n",
    "    sum_words = bag_of_words.sum(axis=0) \n",
    "    words_freq = [(word, sum_words[0, idx]) for word, idx in     vec1.vocabulary_.items()]\n",
    "    words_freq =sorted(words_freq, key = lambda x: x[1], reverse=True)\n",
    "    return words_freq[:n]\n",
    "\n",
    "top2_words = get_top_n2_words(sent1, n=20)\n",
    "top2_df = pd.DataFrame(top2_words)\n",
    "top2_df.columns=[\"Bi-gram\", \"Freq\"]\n",
    "print(top2_df)\n"
   ]
  },
  {
   "cell_type": "code",
   "execution_count": 106,
   "metadata": {},
   "outputs": [
    {
     "data": {
      "text/plain": [
       "TfidfVectorizer(analyzer='word', binary=False, decode_error='strict',\n",
       "                dtype=<class 'numpy.float64'>, encoding='utf-8',\n",
       "                input='content', lowercase=True, max_df=1.0, max_features=None,\n",
       "                min_df=0.001, ngram_range=(1, 2), norm='l2', preprocessor=None,\n",
       "                smooth_idf=True,\n",
       "                stop_words={'a', 'about', 'above', 'after', 'again', 'against',\n",
       "                            'ain', 'all', 'am', 'an', 'and', 'any', 'are',\n",
       "                            'aren', \"aren't\", 'as', 'at', 'be', 'because',\n",
       "                            'been', 'before', 'being', 'below', 'between',\n",
       "                            'both', 'but', 'by', 'can', 'couldn', \"couldn't\", ...},\n",
       "                strip_accents=None, sublinear_tf=False,\n",
       "                token_pattern='(?u)\\\\b\\\\w\\\\w+\\\\b', tokenizer=None, use_idf=True,\n",
       "                vocabulary=None)"
      ]
     },
     "execution_count": 106,
     "metadata": {},
     "output_type": "execute_result"
    }
   ],
   "source": [
    "# Fit the tf-idf model\n",
    "tfv = TfidfVectorizer(stop_words=stop_words, ngram_range=(1,2), min_df = 0.001)\n",
    "tfv\n"
   ]
  },
  {
   "cell_type": "code",
   "execution_count": 107,
   "metadata": {},
   "outputs": [],
   "source": [
    "#execute the model on our corpus\n",
    "tfidf_matrix =  tfv.fit_transform(sent1)"
   ]
  },
  {
   "cell_type": "code",
   "execution_count": 110,
   "metadata": {},
   "outputs": [],
   "source": [
    "# tokenize and build vocab\n",
    "tfmat = tfv.fit_transform(sent1)"
   ]
  },
  {
   "cell_type": "code",
   "execution_count": 109,
   "metadata": {},
   "outputs": [
    {
     "data": {
      "text/plain": [
       "['ability',\n",
       " 'able',\n",
       " 'absolute',\n",
       " 'absolutely',\n",
       " 'abstract',\n",
       " 'academic',\n",
       " 'accent',\n",
       " 'access',\n",
       " 'accessible',\n",
       " 'account']"
      ]
     },
     "execution_count": 109,
     "metadata": {},
     "output_type": "execute_result"
    }
   ],
   "source": [
    "feature_names=tfv.get_feature_names()\n",
    "feature_names[:10]"
   ]
  },
  {
   "cell_type": "code",
   "execution_count": 111,
   "metadata": {},
   "outputs": [],
   "source": [
    "df_group['word_count']=df_group['sent'].apply(lambda x: len(str(x).split()))"
   ]
  },
  {
   "cell_type": "code",
   "execution_count": 112,
   "metadata": {},
   "outputs": [
    {
     "data": {
      "text/plain": [
       "<matplotlib.axes._subplots.AxesSubplot at 0x21f6e34c1c8>"
      ]
     },
     "execution_count": 112,
     "metadata": {},
     "output_type": "execute_result"
    },
    {
     "data": {
      "image/png": "[encoded data removed]",
      "text/plain": [
       "<Figure size 432x288 with 1 Axes>"
      ]
     },
     "metadata": {
      "needs_background": "light"
     },
     "output_type": "display_data"
    }
   ],
   "source": [
    "df_group['word_count'].hist(bins=100, color='lightgreen')"
   ]
  },
  {
   "cell_type": "code",
   "execution_count": 113,
   "metadata": {},
   "outputs": [
    {
     "data": {
      "text/plain": [
       "<seaborn.axisgrid.FacetGrid at 0x21f60167c88>"
      ]
     },
     "execution_count": 113,
     "metadata": {},
     "output_type": "execute_result"
    },
    {
     "data": {
      "image/png": "[encoded data removed]",
      "text/plain": [
       "<Figure size 648x216 with 3 Axes>"
      ]
     },
     "metadata": {
      "needs_background": "light"
     },
     "output_type": "display_data"
    }
   ],
   "source": [
    "g = sns.FacetGrid(df_group, col='Type', hue='Type')\n",
    "g.map(plt.hist,'word_count')"
   ]
  },
  {
   "cell_type": "markdown",
   "metadata": {},
   "source": [
    "# Wordcloud for negative, neutral and positive reviews"
   ]
  },
  {
   "cell_type": "code",
   "execution_count": 114,
   "metadata": {},
   "outputs": [
    {
     "data": {
      "text/plain": [
       "Text(0.5, 1, 'Most frequent Positive words in Tweet dataset')"
      ]
     },
     "execution_count": 114,
     "metadata": {},
     "output_type": "execute_result"
    },
    {
     "data": {
      "image/png": "[encoded data removed]",
      "text/plain": [
       "<Figure size 432x288 with 1 Axes>"
      ]
     },
     "metadata": {
      "needs_background": "light"
     },
     "output_type": "display_data"
    }
   ],
   "source": [
    "#Positive Words\n",
    "wc = WordCloud(\n",
    "                          background_color='black',\n",
    "                          colormap=\"Reds\",\n",
    "                          stopwords=stop_words,\n",
    "                          max_words=50,\n",
    "                          max_font_size=50, \n",
    "                          random_state=42,\n",
    "                          )\n",
    "# generate word cloud using text column\n",
    "wc.generate(str(df_group[df_group['Type']=='Positive']['sent']))\n",
    "# declare our figure \n",
    "fig = plt.figure(1)\n",
    "plt.imshow(wc)\n",
    "plt.axis('off')\n",
    "fig.savefig(\"word1.png\", dpi=900)\n",
    "# add title to the graph\n",
    "plt.title(\"Most frequent Positive words in Tweet dataset\", fontsize=40,color='white')\n"
   ]
  },
  {
   "cell_type": "code",
   "execution_count": 115,
   "metadata": {},
   "outputs": [
    {
     "data": {
      "text/plain": [
       "Text(0.5, 1, 'Most frequent Negative words in Tweet dataset')"
      ]
     },
     "execution_count": 115,
     "metadata": {},
     "output_type": "execute_result"
    },
    {
     "data": {
      "image/png": "[encoded data removed]",
      "text/plain": [
       "<Figure size 432x288 with 1 Axes>"
      ]
     },
     "metadata": {
      "needs_background": "light"
     },
     "output_type": "display_data"
    }
   ],
   "source": [
    "#Negative Words\n",
    "wc = WordCloud(\n",
    "                          background_color='black',\n",
    "                          colormap=\"Reds\",\n",
    "                          stopwords=stop_words,\n",
    "                          max_words=50,\n",
    "                          max_font_size=50, \n",
    "                          random_state=42,\n",
    "                          )\n",
    "# generate word cloud using text column\n",
    "wc.generate(str(df_group[df_group['Type']=='Negative']['sent']))\n",
    "# declare our figure \n",
    "fig = plt.figure(1)\n",
    "plt.imshow(wc)\n",
    "plt.axis('off')\n",
    "fig.savefig(\"word1.png\", dpi=900)\n",
    "# add title to the graph\n",
    "plt.title(\"Most frequent Negative words in Tweet dataset\", fontsize=40,color='white')"
   ]
  },
  {
   "cell_type": "code",
   "execution_count": 116,
   "metadata": {},
   "outputs": [
    {
     "data": {
      "text/plain": [
       "Text(0.5, 1, 'Most frequent Neutral words in Tweet dataset')"
      ]
     },
     "execution_count": 116,
     "metadata": {},
     "output_type": "execute_result"
    },
    {
     "data": {
      "image/png": "[encoded data removed]",
      "text/plain": [
       "<Figure size 432x288 with 1 Axes>"
      ]
     },
     "metadata": {
      "needs_background": "light"
     },
     "output_type": "display_data"
    }
   ],
   "source": [
    "#Neutral Words\n",
    "wc = WordCloud(\n",
    "                          background_color='black',\n",
    "                          colormap=\"Reds\",\n",
    "                          stopwords=stop_words,\n",
    "                          max_words=50,\n",
    "                          max_font_size=50, \n",
    "                          random_state=42,\n",
    "                          )\n",
    "# generate word cloud using text column\n",
    "wc.generate(str(df_group[df_group['Type']=='Neutral']['sent']))\n",
    "# declare our figure \n",
    "fig = plt.figure(1)\n",
    "plt.imshow(wc)\n",
    "plt.axis('off')\n",
    "fig.savefig(\"word1.png\", dpi=900)\n",
    "# add title to the graph\n",
    "plt.title(\"Most frequent Neutral words in Tweet dataset\", fontsize=40,color='white')"
   ]
  },
  {
   "cell_type": "markdown",
   "metadata": {},
   "source": [
    "# Top Positive, Negative and Neutral bi-grams"
   ]
  },
  {
   "cell_type": "code",
   "execution_count": 125,
   "metadata": {},
   "outputs": [
    {
     "name": "stdout",
     "output_type": "stream",
     "text": [
      "                Bi-gram  Freq\n",
      "0          great course  6879\n",
      "1      excellent course  3003\n",
      "2      machine learning  2729\n",
      "3           good course  2530\n",
      "4          course great  1642\n",
      "5       easy understand  1639\n",
      "6         course really  1589\n",
      "7      recommend course  1582\n",
      "8            thank much  1556\n",
      "9           learned lot  1455\n",
      "10          best course  1451\n",
      "11     highly recommend  1233\n",
      "12       really enjoyed  1211\n",
      "13          course well  1181\n",
      "14          easy follow  1178\n",
      "15       enjoyed course  1159\n",
      "16             one best  1115\n",
      "17          course good  1087\n",
      "18             dr chuck  1022\n",
      "19   interesting course   965\n",
      "20          really good   916\n",
      "21   great introduction   853\n",
      "22       awesome course   850\n",
      "23       amazing course   847\n",
      "24      would recommend   835\n",
      "25      well structured   830\n",
      "26   highly recommended   817\n",
      "27           would like   797\n",
      "28         course would   776\n",
      "29         course thank   748\n",
      "30            andrew ng   747\n",
      "31      course material   719\n",
      "32  introductory course   698\n",
      "33       well explained   680\n",
      "34          take course   664\n",
      "35        great teacher   650\n",
      "36      looking forward   647\n",
      "37   course interesting   632\n",
      "38       course learned   632\n",
      "39        course anyone   630\n",
      "40          course ever   620\n",
      "41          nice course   617\n",
      "42         data science   615\n",
      "43       course content   612\n",
      "44           thanks lot   603\n",
      "45     wonderful course   597\n",
      "46          course give   596\n",
      "47    good introduction   587\n",
      "48         really great   584\n",
      "49           want learn   583\n"
     ]
    }
   ],
   "source": [
    "#Positive Words\n",
    "sent_pos=df_group[df_group['Type']=='Positive']['sent']\n",
    "def get_top_n2_words(sent_pos, n=None):\n",
    "    vec1 = CountVectorizer(ngram_range=(2,2), max_features=2000).fit(sent_pos)\n",
    "    bag_of_words = vec1.transform(sent_pos)\n",
    "    sum_words = bag_of_words.sum(axis=0) \n",
    "    words_freq = [(word, sum_words[0, idx]) for word, idx in     vec1.vocabulary_.items()]\n",
    "    words_freq =sorted(words_freq, key = lambda x: x[1], reverse=True)\n",
    "    return words_freq[:n]\n",
    "\n",
    "top2_words = get_top_n2_words(sent_pos, n=50)\n",
    "top_pos = pd.DataFrame(top2_words)\n",
    "top_pos.columns=[\"Bi-gram\", \"Freq\"]\n",
    "print(top_pos)\n"
   ]
  },
  {
   "cell_type": "code",
   "execution_count": 124,
   "metadata": {},
   "outputs": [
    {
     "name": "stdout",
     "output_type": "stream",
     "text": [
      "                   Bi-gram  Freq\n",
      "0              good course  1316\n",
      "1         excellent course   657\n",
      "2         machine learning   598\n",
      "3              learned lot   466\n",
      "4        good introduction   404\n",
      "5              nice course   350\n",
      "6             data science   302\n",
      "7              really good   277\n",
      "8            course really   268\n",
      "9       interesting course   262\n",
      "10             course good   245\n",
      "11     introductory course   223\n",
      "12         easy understand   206\n",
      "13            great course   193\n",
      "14          well explained   186\n",
      "15           useful course   184\n",
      "16             course give   182\n",
      "17         course material   181\n",
      "18              learnt lot   180\n",
      "19             course well   179\n",
      "20         course beginner   177\n",
      "21            course learn   175\n",
      "22          course content   171\n",
      "23          enjoyed course   167\n",
      "24         well structured   167\n",
      "25              lot course   159\n",
      "26              thank much   158\n",
      "27          course learned   153\n",
      "28         looking forward   150\n",
      "29          really enjoyed   147\n",
      "30               learn lot   146\n",
      "31           course helped   146\n",
      "32             take course   146\n",
      "33           good overview   145\n",
      "34      informative course   144\n",
      "35        recommend course   144\n",
      "36              want learn   141\n",
      "37          amazing course   141\n",
      "38  excellent introduction   140\n",
      "39          well organized   133\n",
      "40      highly recommended   132\n",
      "41              little bit   132\n",
      "42               well done   122\n",
      "43             like course   122\n",
      "44                dr chuck   121\n",
      "45   course specialization   116\n",
      "46              course get   113\n",
      "47              course lot   113\n",
      "48            found course   112\n",
      "49               real life   110\n"
     ]
    }
   ],
   "source": [
    "#Neutral Words\n",
    "sent_neu=df_group[df_group['Type']=='Neutral']['sent']\n",
    "def get_top_n2_words(sent_neu, n=None):\n",
    "    vec1 = CountVectorizer(ngram_range=(2,2), max_features=2000).fit(sent_neu)\n",
    "    bag_of_words = vec1.transform(sent_neu)\n",
    "    sum_words = bag_of_words.sum(axis=0) \n",
    "    words_freq = [(word, sum_words[0, idx]) for word, idx in     vec1.vocabulary_.items()]\n",
    "    words_freq =sorted(words_freq, key = lambda x: x[1], reverse=True)\n",
    "    return words_freq[:n]\n",
    "\n",
    "top2_words = get_top_n2_words(sent_neu, n=50)\n",
    "top_neu = pd.DataFrame(top2_words)\n",
    "top_neu.columns=[\"Bi-gram\", \"Freq\"]\n",
    "print(top_neu)"
   ]
  },
  {
   "cell_type": "code",
   "execution_count": 127,
   "metadata": {},
   "outputs": [
    {
     "name": "stdout",
     "output_type": "stream",
     "text": [
      "                   Bi-gram  Freq\n",
      "0              learned lot   168\n",
      "1         machine learning   131\n",
      "2            course really    89\n",
      "3               waste time    81\n",
      "4              take course    81\n",
      "5           course content    80\n",
      "6          course material    78\n",
      "7             data science    75\n",
      "8              peer review    71\n",
      "9       informative course    67\n",
      "10             course give    64\n",
      "11              little bit    61\n",
      "12               learn lot    60\n",
      "13           video lecture    59\n",
      "14   course specialization    58\n",
      "15              lot course    58\n",
      "16         looking forward    57\n",
      "17         complete course    57\n",
      "18  programming assignment    56\n",
      "19           course helped    55\n",
      "20              high level    53\n",
      "21             good course    51\n",
      "22            first course    49\n",
      "23             week course    47\n",
      "24            basic course    47\n",
      "25             course need    47\n",
      "26           final project    47\n",
      "27        discussion forum    46\n",
      "28            found course    44\n",
      "29     introductory course    42\n",
      "30         excelent course    42\n",
      "31           really helped    40\n",
      "32               new thing    40\n",
      "33             hard follow    40\n",
      "34           course course    40\n",
      "35          course learned    39\n",
      "36              first week    39\n",
      "37               real life    38\n",
      "38              course one    38\n",
      "39        difficult follow    38\n",
      "40              real world    38\n",
      "41    difficult understand    37\n",
      "42         hard understand    37\n",
      "43           taking course    37\n",
      "44             course ever    37\n",
      "45              learnt lot    36\n",
      "46              helped lot    36\n",
      "47            think course    36\n",
      "48           quiz question    36\n",
      "49            course could    35\n"
     ]
    }
   ],
   "source": [
    "#Negative Words\n",
    "sent_neg=df_group[df_group['Type']=='Negative']['sent']\n",
    "def get_top_n2_words(sent_neg, n=None):\n",
    "    vec1 = CountVectorizer(ngram_range=(2,2), max_features=2000).fit(sent_neg)\n",
    "    bag_of_words = vec1.transform(sent_neg)\n",
    "    sum_words = bag_of_words.sum(axis=0) \n",
    "    words_freq = [(word, sum_words[0, idx]) for word, idx in     vec1.vocabulary_.items()]\n",
    "    words_freq =sorted(words_freq, key = lambda x: x[1], reverse=True)\n",
    "    return words_freq[:n]\n",
    "\n",
    "top2_words = get_top_n2_words(sent_neg, n=50)\n",
    "top_neg = pd.DataFrame(top2_words)\n",
    "top_neg.columns=[\"Bi-gram\", \"Freq\"]\n",
    "print(top_neg)"
   ]
  },
  {
   "cell_type": "markdown",
   "metadata": {},
   "source": [
    "## Predictive Modelling"
   ]
  },
  {
   "cell_type": "code",
   "execution_count": 57,
   "metadata": {},
   "outputs": [
    {
     "data": {
      "text/plain": [
       "1    102298\n",
       "0      4720\n",
       "Name: Type, dtype: int64"
      ]
     },
     "execution_count": 57,
     "metadata": {},
     "output_type": "execute_result"
    }
   ],
   "source": [
    "bins=[0,2,5]\n",
    "labels=[0,1]\n",
    "df_class = df\n",
    "df_class['Type']=pd.cut(df['Label'],bins=bins,labels=labels)\n",
    "df_class['Type'].value_counts()"
   ]
  },
  {
   "cell_type": "code",
   "execution_count": 58,
   "metadata": {},
   "outputs": [
    {
     "data": {
      "text/plain": [
       "'video presented french could translated english'"
      ]
     },
     "execution_count": 58,
     "metadata": {},
     "output_type": "execute_result"
    }
   ],
   "source": [
    "corpus[18]"
   ]
  },
  {
   "cell_type": "code",
   "execution_count": 59,
   "metadata": {},
   "outputs": [],
   "source": [
    "cv = cv = CountVectorizer(max_features = 4000, ngram_range=(1, 3))"
   ]
  },
  {
   "cell_type": "code",
   "execution_count": 65,
   "metadata": {},
   "outputs": [],
   "source": [
    "X = cv.fit_transform(corpus).toarray()\n",
    "y = df['Label']"
   ]
  },
  {
   "cell_type": "code",
   "execution_count": 66,
   "metadata": {},
   "outputs": [
    {
     "name": "stdout",
     "output_type": "stream",
     "text": [
      "(107018, 4000)\n",
      "(107018,)\n"
     ]
    }
   ],
   "source": [
    "print(X.shape)\n",
    "print(y.shape)"
   ]
  },
  {
   "cell_type": "code",
   "execution_count": 67,
   "metadata": {},
   "outputs": [],
   "source": [
    "# Splitting the dataset into the Training set and Test set\n",
    "from sklearn.model_selection import train_test_split\n",
    "X_train, X_test, y_train, y_test = model_selection.train_test_split(X, y, test_size = 0.30, random_state = 0)\n",
    "\n",
    "# label encode the target variable \n",
    "encoder = preprocessing.LabelEncoder()\n",
    "y_train = encoder.fit_transform(y_train)\n",
    "y_test = encoder.fit_transform(y_test)"
   ]
  },
  {
   "cell_type": "code",
   "execution_count": 68,
   "metadata": {},
   "outputs": [
    {
     "name": "stdout",
     "output_type": "stream",
     "text": [
      "(74912, 4000) (32106, 4000)\n",
      "(74912,) (32106,)\n"
     ]
    }
   ],
   "source": [
    "print(X_train.shape, X_test.shape)\n",
    "print(y_train.shape, y_test.shape)"
   ]
  },
  {
   "cell_type": "markdown",
   "metadata": {},
   "source": [
    "#### Naive Bayes Algorithm"
   ]
  },
  {
   "cell_type": "code",
   "execution_count": 69,
   "metadata": {},
   "outputs": [
    {
     "data": {
      "text/plain": [
       "GaussianNB(priors=None, var_smoothing=1e-09)"
      ]
     },
     "execution_count": 69,
     "metadata": {},
     "output_type": "execute_result"
    }
   ],
   "source": [
    "# Fitting Naive Bayes to the Training set\n",
    "from sklearn.naive_bayes import GaussianNB\n",
    "classifier = GaussianNB()\n",
    "classifier.fit(X_train, y_train)"
   ]
  },
  {
   "cell_type": "code",
   "execution_count": 70,
   "metadata": {},
   "outputs": [],
   "source": [
    "# Predicting the Test set results\n",
    "y_pred = classifier.predict(X_test)"
   ]
  },
  {
   "cell_type": "code",
   "execution_count": 71,
   "metadata": {},
   "outputs": [
    {
     "data": {
      "text/plain": [
       "array([[ 547,  105,   48,   28,    3],\n",
       "       [ 430,  129,   86,   25,    4],\n",
       "       [ 867,  337,  201,   76,   32],\n",
       "       [2454, 1076, 1065,  381,  464],\n",
       "       [9005, 3523, 4208, 1111, 5901]], dtype=int64)"
      ]
     },
     "execution_count": 71,
     "metadata": {},
     "output_type": "execute_result"
    }
   ],
   "source": [
    "# Making the Confusion Matrix\n",
    "from sklearn.metrics import confusion_matrix\n",
    "#cm = confusion_matrix(y_test, y_pred)\n",
    "cm = confusion_matrix(y_test, y_pred)\n",
    "cm"
   ]
  },
  {
   "cell_type": "code",
   "execution_count": 72,
   "metadata": {},
   "outputs": [
    {
     "name": "stdout",
     "output_type": "stream",
     "text": [
      "0.2229801283249237\n"
     ]
    },
    {
     "ename": "ValueError",
     "evalue": "Target is multiclass but average='binary'. Please choose another average setting, one of [None, 'micro', 'macro', 'weighted'].",
     "output_type": "error",
     "traceback": [
      "\u001b[1;31m---------------------------------------------------------------------------\u001b[0m",
      "\u001b[1;31mValueError\u001b[0m                                Traceback (most recent call last)",
      "\u001b[1;32m<ipython-input-72-b6e513c889e3>\u001b[0m in \u001b[0;36m<module>\u001b[1;34m\u001b[0m\n\u001b[0;32m      1\u001b[0m \u001b[1;32mfrom\u001b[0m \u001b[0msklearn\u001b[0m\u001b[1;33m.\u001b[0m\u001b[0mmetrics\u001b[0m \u001b[1;32mimport\u001b[0m \u001b[0maccuracy_score\u001b[0m\u001b[1;33m,\u001b[0m \u001b[0mrecall_score\u001b[0m\u001b[1;33m,\u001b[0m\u001b[0mprecision_score\u001b[0m\u001b[1;33m,\u001b[0m\u001b[0mf1_score\u001b[0m\u001b[1;33m\u001b[0m\u001b[1;33m\u001b[0m\u001b[0m\n\u001b[0;32m      2\u001b[0m \u001b[0mprint\u001b[0m\u001b[1;33m(\u001b[0m\u001b[0maccuracy_score\u001b[0m\u001b[1;33m(\u001b[0m\u001b[0my_test\u001b[0m\u001b[1;33m,\u001b[0m \u001b[0my_pred\u001b[0m\u001b[1;33m)\u001b[0m\u001b[1;33m)\u001b[0m\u001b[1;33m\u001b[0m\u001b[1;33m\u001b[0m\u001b[0m\n\u001b[1;32m----> 3\u001b[1;33m \u001b[0mprint\u001b[0m\u001b[1;33m(\u001b[0m\u001b[0mprecision_score\u001b[0m\u001b[1;33m(\u001b[0m\u001b[0my_test\u001b[0m\u001b[1;33m,\u001b[0m \u001b[0my_pred\u001b[0m\u001b[1;33m)\u001b[0m\u001b[1;33m)\u001b[0m\u001b[1;33m\u001b[0m\u001b[1;33m\u001b[0m\u001b[0m\n\u001b[0m",
      "\u001b[1;32m~\\Anaconda3\\lib\\site-packages\\sklearn\\metrics\\_classification.py\u001b[0m in \u001b[0;36mprecision_score\u001b[1;34m(y_true, y_pred, labels, pos_label, average, sample_weight, zero_division)\u001b[0m\n\u001b[0;32m   1670\u001b[0m                                                  \u001b[0mwarn_for\u001b[0m\u001b[1;33m=\u001b[0m\u001b[1;33m(\u001b[0m\u001b[1;34m'precision'\u001b[0m\u001b[1;33m,\u001b[0m\u001b[1;33m)\u001b[0m\u001b[1;33m,\u001b[0m\u001b[1;33m\u001b[0m\u001b[1;33m\u001b[0m\u001b[0m\n\u001b[0;32m   1671\u001b[0m                                                  \u001b[0msample_weight\u001b[0m\u001b[1;33m=\u001b[0m\u001b[0msample_weight\u001b[0m\u001b[1;33m,\u001b[0m\u001b[1;33m\u001b[0m\u001b[1;33m\u001b[0m\u001b[0m\n\u001b[1;32m-> 1672\u001b[1;33m                                                  zero_division=zero_division)\n\u001b[0m\u001b[0;32m   1673\u001b[0m     \u001b[1;32mreturn\u001b[0m \u001b[0mp\u001b[0m\u001b[1;33m\u001b[0m\u001b[1;33m\u001b[0m\u001b[0m\n\u001b[0;32m   1674\u001b[0m \u001b[1;33m\u001b[0m\u001b[0m\n",
      "\u001b[1;32m~\\Anaconda3\\lib\\site-packages\\sklearn\\metrics\\_classification.py\u001b[0m in \u001b[0;36mprecision_recall_fscore_support\u001b[1;34m(y_true, y_pred, beta, labels, pos_label, average, warn_for, sample_weight, zero_division)\u001b[0m\n\u001b[0;32m   1482\u001b[0m         \u001b[1;32mraise\u001b[0m \u001b[0mValueError\u001b[0m\u001b[1;33m(\u001b[0m\u001b[1;34m\"beta should be >=0 in the F-beta score\"\u001b[0m\u001b[1;33m)\u001b[0m\u001b[1;33m\u001b[0m\u001b[1;33m\u001b[0m\u001b[0m\n\u001b[0;32m   1483\u001b[0m     labels = _check_set_wise_labels(y_true, y_pred, average, labels,\n\u001b[1;32m-> 1484\u001b[1;33m                                     pos_label)\n\u001b[0m\u001b[0;32m   1485\u001b[0m \u001b[1;33m\u001b[0m\u001b[0m\n\u001b[0;32m   1486\u001b[0m     \u001b[1;31m# Calculate tp_sum, pred_sum, true_sum ###\u001b[0m\u001b[1;33m\u001b[0m\u001b[1;33m\u001b[0m\u001b[1;33m\u001b[0m\u001b[0m\n",
      "\u001b[1;32m~\\Anaconda3\\lib\\site-packages\\sklearn\\metrics\\_classification.py\u001b[0m in \u001b[0;36m_check_set_wise_labels\u001b[1;34m(y_true, y_pred, average, labels, pos_label)\u001b[0m\n\u001b[0;32m   1314\u001b[0m             raise ValueError(\"Target is %s but average='binary'. Please \"\n\u001b[0;32m   1315\u001b[0m                              \u001b[1;34m\"choose another average setting, one of %r.\"\u001b[0m\u001b[1;33m\u001b[0m\u001b[1;33m\u001b[0m\u001b[0m\n\u001b[1;32m-> 1316\u001b[1;33m                              % (y_type, average_options))\n\u001b[0m\u001b[0;32m   1317\u001b[0m     \u001b[1;32melif\u001b[0m \u001b[0mpos_label\u001b[0m \u001b[1;32mnot\u001b[0m \u001b[1;32min\u001b[0m \u001b[1;33m(\u001b[0m\u001b[1;32mNone\u001b[0m\u001b[1;33m,\u001b[0m \u001b[1;36m1\u001b[0m\u001b[1;33m)\u001b[0m\u001b[1;33m:\u001b[0m\u001b[1;33m\u001b[0m\u001b[1;33m\u001b[0m\u001b[0m\n\u001b[0;32m   1318\u001b[0m         warnings.warn(\"Note that pos_label (set to %r) is ignored when \"\n",
      "\u001b[1;31mValueError\u001b[0m: Target is multiclass but average='binary'. Please choose another average setting, one of [None, 'micro', 'macro', 'weighted']."
     ]
    }
   ],
   "source": [
    "from sklearn.metrics import accuracy_score, recall_score,precision_score,f1_score\n",
    "print(accuracy_score(y_test, y_pred))\n",
    "print(precision_score(y_test, y_pred))"
   ]
  },
  {
   "cell_type": "code",
   "execution_count": null,
   "metadata": {},
   "outputs": [],
   "source": [
    "Classifier_Scores = {}\n",
    "Classifier_Scores.update({'Naive Bayes Algorithm':[accuracy_score(y_test, y_pred),recall_score(y_test, y_pred),precision_score(y_test, y_pred),f1_score(y_test, y_pred)]})"
   ]
  },
  {
   "cell_type": "markdown",
   "metadata": {},
   "source": [
    "#### Logistic Regression"
   ]
  },
  {
   "cell_type": "code",
   "execution_count": 29,
   "metadata": {},
   "outputs": [
    {
     "name": "stderr",
     "output_type": "stream",
     "text": [
      "C:\\Users\\nikhi\\Anaconda3\\lib\\site-packages\\sklearn\\linear_model\\_logistic.py:940: ConvergenceWarning: lbfgs failed to converge (status=1):\n",
      "STOP: TOTAL NO. of ITERATIONS REACHED LIMIT.\n",
      "\n",
      "Increase the number of iterations (max_iter) or scale the data as shown in:\n",
      "    https://scikit-learn.org/stable/modules/preprocessing.html\n",
      "Please also refer to the documentation for alternative solver options:\n",
      "    https://scikit-learn.org/stable/modules/linear_model.html#logistic-regression\n",
      "  extra_warning_msg=_LOGISTIC_SOLVER_CONVERGENCE_MSG)\n"
     ]
    },
    {
     "data": {
      "text/plain": [
       "LogisticRegression(C=1.0, class_weight=None, dual=False, fit_intercept=True,\n",
       "                   intercept_scaling=1, l1_ratio=None, max_iter=100,\n",
       "                   multi_class='auto', n_jobs=None, penalty='l2',\n",
       "                   random_state=0, solver='lbfgs', tol=0.0001, verbose=0,\n",
       "                   warm_start=False)"
      ]
     },
     "execution_count": 29,
     "metadata": {},
     "output_type": "execute_result"
    }
   ],
   "source": [
    "from sklearn.linear_model import LogisticRegression\n",
    "classifier_LR = LogisticRegression(random_state=0)\n",
    "classifier_LR.fit(X_train,y_train)"
   ]
  },
  {
   "cell_type": "code",
   "execution_count": 30,
   "metadata": {},
   "outputs": [],
   "source": [
    "# Predicting the Test set results\n",
    "y_pred = classifier_LR.predict(X_test)"
   ]
  },
  {
   "cell_type": "code",
   "execution_count": 31,
   "metadata": {},
   "outputs": [
    {
     "data": {
      "text/plain": [
       "array([[ 2188,   423],\n",
       "       [  343, 25388]], dtype=int64)"
      ]
     },
     "execution_count": 31,
     "metadata": {},
     "output_type": "execute_result"
    }
   ],
   "source": [
    "#cm = confusion_matrix(y_test, y_pred)\n",
    "cm = confusion_matrix(y_test, y_pred)\n",
    "cm"
   ]
  },
  {
   "cell_type": "code",
   "execution_count": 32,
   "metadata": {},
   "outputs": [
    {
     "name": "stdout",
     "output_type": "stream",
     "text": [
      "0.972972972972973\n",
      "0.9836116384487235\n"
     ]
    }
   ],
   "source": [
    "print(accuracy_score(y_test, y_pred))\n",
    "print(precision_score(y_test, y_pred))"
   ]
  },
  {
   "cell_type": "code",
   "execution_count": 33,
   "metadata": {},
   "outputs": [],
   "source": [
    "Classifier_Scores.update({'Logistic Regression':[accuracy_score(y_test, y_pred),recall_score(y_test, y_pred),precision_score(y_test, y_pred),f1_score(y_test, y_pred)]})"
   ]
  },
  {
   "cell_type": "markdown",
   "metadata": {},
   "source": [
    "#### Random Forest Classifier"
   ]
  },
  {
   "cell_type": "code",
   "execution_count": 34,
   "metadata": {},
   "outputs": [],
   "source": [
    "from sklearn.ensemble import RandomForestClassifier\n",
    "rf = RandomForestClassifier(n_estimators= 50,random_state = 0,verbose= 0)\n",
    "rf_model = rf.fit(X_train, y_train)"
   ]
  },
  {
   "cell_type": "code",
   "execution_count": 35,
   "metadata": {},
   "outputs": [],
   "source": [
    "y_pred = rf_model.predict(X_test)"
   ]
  },
  {
   "cell_type": "code",
   "execution_count": 36,
   "metadata": {},
   "outputs": [
    {
     "data": {
      "text/plain": [
       "array([[ 1856,   755],\n",
       "       [  303, 25428]], dtype=int64)"
      ]
     },
     "execution_count": 36,
     "metadata": {},
     "output_type": "execute_result"
    }
   ],
   "source": [
    "confusion_matrix(y_test, y_pred)"
   ]
  },
  {
   "cell_type": "code",
   "execution_count": 37,
   "metadata": {},
   "outputs": [
    {
     "name": "stdout",
     "output_type": "stream",
     "text": [
      "0.9626702420436102\n",
      "0.9711644960470535\n"
     ]
    }
   ],
   "source": [
    "print(accuracy_score(y_test, y_pred))\n",
    "print(precision_score(y_test, y_pred))"
   ]
  },
  {
   "cell_type": "code",
   "execution_count": 38,
   "metadata": {},
   "outputs": [],
   "source": [
    "Classifier_Scores.update({'Random Forest':[accuracy_score(y_test, y_pred),recall_score(y_test, y_pred),precision_score(y_test, y_pred),f1_score(y_test, y_pred)]})"
   ]
  },
  {
   "cell_type": "markdown",
   "metadata": {},
   "source": [
    "#### XG Boost Classifier "
   ]
  },
  {
   "cell_type": "code",
   "execution_count": 39,
   "metadata": {},
   "outputs": [],
   "source": [
    "import xgboost\n",
    "xg_classifier = xgboost.XGBClassifier(n_estimators=50, verbose=4)\n",
    "xg_model = xg_classifier.fit(X_train, y_train)"
   ]
  },
  {
   "cell_type": "code",
   "execution_count": 40,
   "metadata": {},
   "outputs": [],
   "source": [
    "y_pred = xg_model.predict(X_test)"
   ]
  },
  {
   "cell_type": "code",
   "execution_count": 41,
   "metadata": {},
   "outputs": [
    {
     "data": {
      "text/plain": [
       "array([[    1,  2610],\n",
       "       [    0, 25731]], dtype=int64)"
      ]
     },
     "execution_count": 41,
     "metadata": {},
     "output_type": "execute_result"
    }
   ],
   "source": [
    "confusion_matrix(y_test, y_pred)"
   ]
  },
  {
   "cell_type": "code",
   "execution_count": 42,
   "metadata": {},
   "outputs": [
    {
     "name": "stdout",
     "output_type": "stream",
     "text": [
      "0.907910521487545\n",
      "0.9079072721498889\n"
     ]
    }
   ],
   "source": [
    "print(accuracy_score(y_test, y_pred))\n",
    "print(precision_score(y_test, y_pred))"
   ]
  },
  {
   "cell_type": "code",
   "execution_count": 43,
   "metadata": {},
   "outputs": [],
   "source": [
    "Classifier_Scores.update({'XG Boost':[accuracy_score(y_test, y_pred),recall_score(y_test, y_pred),precision_score(y_test, y_pred),f1_score(y_test, y_pred)]})"
   ]
  },
  {
   "cell_type": "code",
   "execution_count": 44,
   "metadata": {},
   "outputs": [
    {
     "data": {
      "text/plain": [
       "{'Naive Bayes Algorithm': [0.5554301037329757,\n",
       "  0.5180910186156776,\n",
       "  0.9852191264503732,\n",
       "  0.679079007691916],\n",
       " 'Logistic Regression': [0.972972972972973,\n",
       "  0.9866697757568691,\n",
       "  0.9836116384487235,\n",
       "  0.9851383337860387],\n",
       " 'Random Forest': [0.9626702420436102,\n",
       "  0.9882243208581089,\n",
       "  0.9711644960470535,\n",
       "  0.9796201410024271],\n",
       " 'XG Boost': [0.907910521487545, 1.0, 0.9079072721498889, 0.9517310252996005]}"
      ]
     },
     "execution_count": 44,
     "metadata": {},
     "output_type": "execute_result"
    }
   ],
   "source": [
    "Classifier_Scores"
   ]
  },
  {
   "cell_type": "markdown",
   "metadata": {},
   "source": [
    "#### Comparing Classifier Performances"
   ]
  },
  {
   "cell_type": "code",
   "execution_count": 45,
   "metadata": {},
   "outputs": [],
   "source": [
    "Classifier_Scores=pd.DataFrame(Classifier_Scores)\n",
    "Classifier_Scores.rename({0:'Accuracy',1:'Recall',2:'Precision',3:'F1-Score'},inplace=True)"
   ]
  },
  {
   "cell_type": "code",
   "execution_count": 46,
   "metadata": {},
   "outputs": [
    {
     "data": {
      "text/html": [
       "<div>\n",
       "<style scoped>\n",
       "    .dataframe tbody tr th:only-of-type {\n",
       "        vertical-align: middle;\n",
       "    }\n",
       "\n",
       "    .dataframe tbody tr th {\n",
       "        vertical-align: top;\n",
       "    }\n",
       "\n",
       "    .dataframe thead th {\n",
       "        text-align: right;\n",
       "    }\n",
       "</style>\n",
       "<table border=\"1\" class=\"dataframe\">\n",
       "  <thead>\n",
       "    <tr style=\"text-align: right;\">\n",
       "      <th></th>\n",
       "      <th>Naive Bayes Algorithm</th>\n",
       "      <th>Logistic Regression</th>\n",
       "      <th>Random Forest</th>\n",
       "      <th>XG Boost</th>\n",
       "    </tr>\n",
       "  </thead>\n",
       "  <tbody>\n",
       "    <tr>\n",
       "      <th>Accuracy</th>\n",
       "      <td>0.555430</td>\n",
       "      <td>0.972973</td>\n",
       "      <td>0.962670</td>\n",
       "      <td>0.907911</td>\n",
       "    </tr>\n",
       "    <tr>\n",
       "      <th>Recall</th>\n",
       "      <td>0.518091</td>\n",
       "      <td>0.986670</td>\n",
       "      <td>0.988224</td>\n",
       "      <td>1.000000</td>\n",
       "    </tr>\n",
       "    <tr>\n",
       "      <th>Precision</th>\n",
       "      <td>0.985219</td>\n",
       "      <td>0.983612</td>\n",
       "      <td>0.971164</td>\n",
       "      <td>0.907907</td>\n",
       "    </tr>\n",
       "    <tr>\n",
       "      <th>F1-Score</th>\n",
       "      <td>0.679079</td>\n",
       "      <td>0.985138</td>\n",
       "      <td>0.979620</td>\n",
       "      <td>0.951731</td>\n",
       "    </tr>\n",
       "  </tbody>\n",
       "</table>\n",
       "</div>"
      ],
      "text/plain": [
       "           Naive Bayes Algorithm  Logistic Regression  Random Forest  XG Boost\n",
       "Accuracy                0.555430             0.972973       0.962670  0.907911\n",
       "Recall                  0.518091             0.986670       0.988224  1.000000\n",
       "Precision               0.985219             0.983612       0.971164  0.907907\n",
       "F1-Score                0.679079             0.985138       0.979620  0.951731"
      ]
     },
     "execution_count": 46,
     "metadata": {},
     "output_type": "execute_result"
    }
   ],
   "source": [
    "Classifier_Scores"
   ]
  },
  {
   "cell_type": "code",
   "execution_count": 47,
   "metadata": {},
   "outputs": [
    {
     "data": {
      "text/plain": [
       "(array([0, 1, 2, 3]), <a list of 4 Text xticklabel objects>)"
      ]
     },
     "execution_count": 47,
     "metadata": {},
     "output_type": "execute_result"
    },
    {
     "data": {
      "image/png": "[encoded data removed]",
      "text/plain": [
       "<Figure size 1296x576 with 1 Axes>"
      ]
     },
     "metadata": {
      "needs_background": "light"
     },
     "output_type": "display_data"
    }
   ],
   "source": [
    "Classifier_Scores.plot.bar(figsize=(18,8))\n",
    "plt.xticks(rotation=0)"
   ]
  },
  {
   "cell_type": "markdown",
   "metadata": {},
   "source": [
    "# Topic Modelling"
   ]
  },
  {
   "cell_type": "code",
   "execution_count": 6,
   "metadata": {},
   "outputs": [],
   "source": [
    "new_words = ['also', 'like', 'lecture', 'could', 'would', 'much', 'take', 'many', 'bit', 'little', 'lot', 'make', 'one', \n",
    "             'coursera', 'time', 'really', 'get', 'know', 'thing', 'way', 'made', 'first', 'give', 'want']\n",
    "stop_words = stop_words.union(new_words)"
   ]
  },
  {
   "cell_type": "code",
   "execution_count": 7,
   "metadata": {},
   "outputs": [],
   "source": [
    "corpus_tm = []\n",
    "for i in range(0, df.shape[0]):\n",
    "    #Remove punctuations\n",
    "    text = re.sub('[^a-zA-Z]', ' ', df['Review'][i])\n",
    "    \n",
    "    #Convert to lowercase\n",
    "    text = text.lower()\n",
    "    ##Convert to list from string\n",
    "    text = text.split()\n",
    "    ##Lemmatizing\n",
    "    lm = WordNetLemmatizer() \n",
    "       \n",
    "    \n",
    "    text = [lm.lemmatize(word) for word in text if not word in stop_words] \n",
    "    text = \" \".join(text)\n",
    "    corpus_tm.append(text)"
   ]
  },
  {
   "cell_type": "code",
   "execution_count": 8,
   "metadata": {},
   "outputs": [],
   "source": [
    "NUM_TOPICS = 5\n",
    "\n",
    "vectorizer = CountVectorizer(max_df=0.9, \n",
    "                             min_df=10,\n",
    "                             stop_words=stop_words,\n",
    "                             token_pattern='[a-zA-Z]{3,}')\n",
    "data_vectorized = vectorizer.fit_transform(corpus_tm)"
   ]
  },
  {
   "cell_type": "code",
   "execution_count": 9,
   "metadata": {},
   "outputs": [
    {
     "name": "stdout",
     "output_type": "stream",
     "text": [
      "(107018, 5567)\n"
     ]
    }
   ],
   "source": [
    "print(data_vectorized.shape)"
   ]
  },
  {
   "cell_type": "code",
   "execution_count": 10,
   "metadata": {},
   "outputs": [
    {
     "name": "stdout",
     "output_type": "stream",
     "text": [
      "(107018, 5)\n"
     ]
    }
   ],
   "source": [
    "# Build a Latent Dirichlet Allocation Model\n",
    "lda_model = LatentDirichletAllocation(n_components=NUM_TOPICS, \n",
    "                                      max_iter=10, \n",
    "                                      learning_method='online',\n",
    "                                     random_state=123)\n",
    "\n",
    "lda_Z = lda_model.fit_transform(data_vectorized)\n",
    "\n",
    "print(lda_Z.shape)  # (NO_DOCUMENTS, NO_TOPICS)"
   ]
  },
  {
   "cell_type": "code",
   "execution_count": 11,
   "metadata": {},
   "outputs": [
    {
     "name": "stdout",
     "output_type": "stream",
     "text": [
      "Topic 0:\n",
      "[('assignment', 8351.206388870482), ('programming', 5797.620464262469), ('python', 4922.758222395821), ('course', 4604.427504533347), ('quiz', 3196.8501228861383), ('project', 2952.546607738915), ('week', 2817.0216717784947), ('nice', 2539.635073830825)]\n",
      "Topic 1:\n",
      "[('course', 27808.195647419347), ('good', 12969.801530127206), ('learn', 6841.043359288533), ('topic', 4277.70570577831), ('basic', 3854.501173375825), ('beginner', 3797.555521428051), ('understanding', 3051.8031839846703), ('help', 2901.516077973688)]\n",
      "Topic 2:\n",
      "[('course', 37725.61369082345), ('great', 26116.354790975245), ('thank', 8507.278600476673), ('thanks', 6481.36206659627), ('professor', 5741.837531209231), ('well', 5381.6478750389115), ('interesting', 4984.426881023664), ('excellent', 4971.4511323228435)]\n",
      "Topic 3:\n",
      "[('course', 12049.711208559596), ('learning', 5613.928929520807), ('best', 5148.316872457493), ('machine', 3643.501740792972), ('data', 3571.5169166096293), ('awesome', 3402.702174427105), ('introduction', 3305.6240665513674), ('good', 3278.437648398713)]\n",
      "Topic 4:\n",
      "[('course', 7816.049265147692), ('easy', 5337.188848480956), ('understand', 5285.403063612534), ('good', 5080.936786780504), ('teacher', 5044.674473403425), ('clear', 4386.126212236749), ('well', 3765.3453511482235), ('informative', 3257.2562571781395)]\n"
     ]
    }
   ],
   "source": [
    "#Function to print topic and top 8 words in the topic\n",
    "def print_topics(model, vectorizer, top_n=8):\n",
    "    for idx, topic in enumerate(model.components_):\n",
    "        print(\"Topic %d:\" % (idx))\n",
    "        \n",
    "        print([(vectorizer.get_feature_names()[i], topic[i])\n",
    "        #sorting in descending order\n",
    "               for i in topic.argsort()[:-top_n - 1:-1]])\n",
    "        \n",
    " \n",
    "print_topics(lda_model, vectorizer)"
   ]
  },
  {
   "cell_type": "code",
   "execution_count": 12,
   "metadata": {},
   "outputs": [
    {
     "data": {
      "text/html": [
       "<div>\n",
       "<style scoped>\n",
       "    .dataframe tbody tr th:only-of-type {\n",
       "        vertical-align: middle;\n",
       "    }\n",
       "\n",
       "    .dataframe tbody tr th {\n",
       "        vertical-align: top;\n",
       "    }\n",
       "\n",
       "    .dataframe thead th {\n",
       "        text-align: right;\n",
       "    }\n",
       "</style>\n",
       "<table border=\"1\" class=\"dataframe\">\n",
       "  <thead>\n",
       "    <tr style=\"text-align: right;\">\n",
       "      <th></th>\n",
       "      <th>Topic 0 words</th>\n",
       "      <th>Topic 0 weights</th>\n",
       "      <th>Topic 1 words</th>\n",
       "      <th>Topic 1 weights</th>\n",
       "      <th>Topic 2 words</th>\n",
       "      <th>Topic 2 weights</th>\n",
       "      <th>Topic 3 words</th>\n",
       "      <th>Topic 3 weights</th>\n",
       "      <th>Topic 4 words</th>\n",
       "      <th>Topic 4 weights</th>\n",
       "    </tr>\n",
       "  </thead>\n",
       "  <tbody>\n",
       "    <tr>\n",
       "      <th>0</th>\n",
       "      <td>assignment</td>\n",
       "      <td>8351.2</td>\n",
       "      <td>course</td>\n",
       "      <td>27808.2</td>\n",
       "      <td>course</td>\n",
       "      <td>37725.6</td>\n",
       "      <td>course</td>\n",
       "      <td>12049.7</td>\n",
       "      <td>course</td>\n",
       "      <td>7816.0</td>\n",
       "    </tr>\n",
       "    <tr>\n",
       "      <th>1</th>\n",
       "      <td>programming</td>\n",
       "      <td>5797.6</td>\n",
       "      <td>good</td>\n",
       "      <td>12969.8</td>\n",
       "      <td>great</td>\n",
       "      <td>26116.4</td>\n",
       "      <td>learning</td>\n",
       "      <td>5613.9</td>\n",
       "      <td>easy</td>\n",
       "      <td>5337.2</td>\n",
       "    </tr>\n",
       "    <tr>\n",
       "      <th>2</th>\n",
       "      <td>python</td>\n",
       "      <td>4922.8</td>\n",
       "      <td>learn</td>\n",
       "      <td>6841.0</td>\n",
       "      <td>thank</td>\n",
       "      <td>8507.3</td>\n",
       "      <td>best</td>\n",
       "      <td>5148.3</td>\n",
       "      <td>understand</td>\n",
       "      <td>5285.4</td>\n",
       "    </tr>\n",
       "    <tr>\n",
       "      <th>3</th>\n",
       "      <td>course</td>\n",
       "      <td>4604.4</td>\n",
       "      <td>topic</td>\n",
       "      <td>4277.7</td>\n",
       "      <td>thanks</td>\n",
       "      <td>6481.4</td>\n",
       "      <td>machine</td>\n",
       "      <td>3643.5</td>\n",
       "      <td>good</td>\n",
       "      <td>5080.9</td>\n",
       "    </tr>\n",
       "    <tr>\n",
       "      <th>4</th>\n",
       "      <td>quiz</td>\n",
       "      <td>3196.9</td>\n",
       "      <td>basic</td>\n",
       "      <td>3854.5</td>\n",
       "      <td>professor</td>\n",
       "      <td>5741.8</td>\n",
       "      <td>data</td>\n",
       "      <td>3571.5</td>\n",
       "      <td>teacher</td>\n",
       "      <td>5044.7</td>\n",
       "    </tr>\n",
       "    <tr>\n",
       "      <th>5</th>\n",
       "      <td>project</td>\n",
       "      <td>2952.5</td>\n",
       "      <td>beginner</td>\n",
       "      <td>3797.6</td>\n",
       "      <td>well</td>\n",
       "      <td>5381.6</td>\n",
       "      <td>awesome</td>\n",
       "      <td>3402.7</td>\n",
       "      <td>clear</td>\n",
       "      <td>4386.1</td>\n",
       "    </tr>\n",
       "    <tr>\n",
       "      <th>6</th>\n",
       "      <td>week</td>\n",
       "      <td>2817.0</td>\n",
       "      <td>understanding</td>\n",
       "      <td>3051.8</td>\n",
       "      <td>interesting</td>\n",
       "      <td>4984.4</td>\n",
       "      <td>introduction</td>\n",
       "      <td>3305.6</td>\n",
       "      <td>well</td>\n",
       "      <td>3765.3</td>\n",
       "    </tr>\n",
       "    <tr>\n",
       "      <th>7</th>\n",
       "      <td>nice</td>\n",
       "      <td>2539.6</td>\n",
       "      <td>help</td>\n",
       "      <td>2901.5</td>\n",
       "      <td>excellent</td>\n",
       "      <td>4971.5</td>\n",
       "      <td>good</td>\n",
       "      <td>3278.4</td>\n",
       "      <td>informative</td>\n",
       "      <td>3257.3</td>\n",
       "    </tr>\n",
       "    <tr>\n",
       "      <th>8</th>\n",
       "      <td>class</td>\n",
       "      <td>2351.9</td>\n",
       "      <td>knowledge</td>\n",
       "      <td>2681.9</td>\n",
       "      <td>useful</td>\n",
       "      <td>4839.0</td>\n",
       "      <td>highly</td>\n",
       "      <td>3135.2</td>\n",
       "      <td>even</td>\n",
       "      <td>3200.0</td>\n",
       "    </tr>\n",
       "    <tr>\n",
       "      <th>9</th>\n",
       "      <td>question</td>\n",
       "      <td>2254.4</td>\n",
       "      <td>student</td>\n",
       "      <td>2659.3</td>\n",
       "      <td>learned</td>\n",
       "      <td>4594.3</td>\n",
       "      <td>life</td>\n",
       "      <td>2809.4</td>\n",
       "      <td>video</td>\n",
       "      <td>2894.8</td>\n",
       "    </tr>\n",
       "  </tbody>\n",
       "</table>\n",
       "</div>"
      ],
      "text/plain": [
       "  Topic 0 words Topic 0 weights  Topic 1 words Topic 1 weights Topic 2 words  \\\n",
       "0    assignment          8351.2         course         27808.2        course   \n",
       "1   programming          5797.6           good         12969.8         great   \n",
       "2        python          4922.8          learn          6841.0         thank   \n",
       "3        course          4604.4          topic          4277.7        thanks   \n",
       "4          quiz          3196.9          basic          3854.5     professor   \n",
       "5       project          2952.5       beginner          3797.6          well   \n",
       "6          week          2817.0  understanding          3051.8   interesting   \n",
       "7          nice          2539.6           help          2901.5     excellent   \n",
       "8         class          2351.9      knowledge          2681.9        useful   \n",
       "9      question          2254.4        student          2659.3       learned   \n",
       "\n",
       "  Topic 2 weights Topic 3 words Topic 3 weights Topic 4 words Topic 4 weights  \n",
       "0         37725.6        course         12049.7        course          7816.0  \n",
       "1         26116.4      learning          5613.9          easy          5337.2  \n",
       "2          8507.3          best          5148.3    understand          5285.4  \n",
       "3          6481.4       machine          3643.5          good          5080.9  \n",
       "4          5741.8          data          3571.5       teacher          5044.7  \n",
       "5          5381.6       awesome          3402.7         clear          4386.1  \n",
       "6          4984.4  introduction          3305.6          well          3765.3  \n",
       "7          4971.5          good          3278.4   informative          3257.3  \n",
       "8          4839.0        highly          3135.2          even          3200.0  \n",
       "9          4594.3          life          2809.4         video          2894.8  "
      ]
     },
     "execution_count": 12,
     "metadata": {},
     "output_type": "execute_result"
    }
   ],
   "source": [
    "def display_topics(model, feature_names, no_top_words):\n",
    "    topic_dict = {}\n",
    "    for topic_idx, topic in enumerate(model.components_):\n",
    "        topic_dict[\"Topic %d words\" % (topic_idx)]= ['{}'.format(feature_names[i])\n",
    "                        for i in topic.argsort()[:-no_top_words - 1:-1]]\n",
    "        topic_dict[\"Topic %d weights\" % (topic_idx)]= ['{:.1f}'.format(topic[i])\n",
    "                        for i in topic.argsort()[:-no_top_words - 1:-1]]\n",
    "    return pd.DataFrame(topic_dict)\n",
    "\n",
    "tf_feature_names = vectorizer.get_feature_names()\n",
    "\n",
    "no_top_words = 10\n",
    "topic_df = display_topics(lda_model, tf_feature_names, no_top_words)\n",
    "topic_df"
   ]
  }
 ],
 "metadata": {
  "kernelspec": {
   "display_name": "Python 3",
   "language": "python",
   "name": "python3"
  },
  "language_info": {
   "codemirror_mode": {
    "name": "ipython",
    "version": 3
   },
   "file_extension": ".py",
   "mimetype": "text/x-python",
   "name": "python",
   "nbconvert_exporter": "python",
   "pygments_lexer": "ipython3",
   "version": "3.7.3"
  }
 },
 "nbformat": 4,
 "nbformat_minor": 4
}
